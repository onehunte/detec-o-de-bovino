{
  "nbformat": 4,
  "nbformat_minor": 0,
  "metadata": {
    "colab": {
      "provenance": [],
      "gpuType": "T4"
    },
    "kernelspec": {
      "name": "python3",
      "display_name": "Python 3"
    },
    "language_info": {
      "name": "python"
    },
    "accelerator": "GPU"
  },
  "cells": [
    {
      "cell_type": "markdown",
      "source": [
        "Instalação do Ultalytics para ultilização do YOLO11n"
      ],
      "metadata": {
        "id": "jFbBtqkqkOh4"
      }
    },
    {
      "cell_type": "code",
      "execution_count": 5,
      "metadata": {
        "colab": {
          "base_uri": "https://localhost:8080/"
        },
        "collapsed": true,
        "id": "mP6S0L-bfFcW",
        "outputId": "58cd09fa-e28d-4677-ab38-dc6d9b13cec0"
      },
      "outputs": [
        {
          "output_type": "stream",
          "name": "stdout",
          "text": [
            "Requirement already satisfied: ultralytics in /usr/local/lib/python3.11/dist-packages (8.3.152)\n",
            "Requirement already satisfied: numpy>=1.23.0 in /usr/local/lib/python3.11/dist-packages (from ultralytics) (2.0.2)\n",
            "Requirement already satisfied: matplotlib>=3.3.0 in /usr/local/lib/python3.11/dist-packages (from ultralytics) (3.10.0)\n",
            "Requirement already satisfied: opencv-python>=4.6.0 in /usr/local/lib/python3.11/dist-packages (from ultralytics) (4.11.0.86)\n",
            "Requirement already satisfied: pillow>=7.1.2 in /usr/local/lib/python3.11/dist-packages (from ultralytics) (11.2.1)\n",
            "Requirement already satisfied: pyyaml>=5.3.1 in /usr/local/lib/python3.11/dist-packages (from ultralytics) (6.0.2)\n",
            "Requirement already satisfied: requests>=2.23.0 in /usr/local/lib/python3.11/dist-packages (from ultralytics) (2.32.3)\n",
            "Requirement already satisfied: scipy>=1.4.1 in /usr/local/lib/python3.11/dist-packages (from ultralytics) (1.15.3)\n",
            "Requirement already satisfied: torch>=1.8.0 in /usr/local/lib/python3.11/dist-packages (from ultralytics) (2.6.0+cu124)\n",
            "Requirement already satisfied: torchvision>=0.9.0 in /usr/local/lib/python3.11/dist-packages (from ultralytics) (0.21.0+cu124)\n",
            "Requirement already satisfied: tqdm>=4.64.0 in /usr/local/lib/python3.11/dist-packages (from ultralytics) (4.67.1)\n",
            "Requirement already satisfied: psutil in /usr/local/lib/python3.11/dist-packages (from ultralytics) (5.9.5)\n",
            "Requirement already satisfied: py-cpuinfo in /usr/local/lib/python3.11/dist-packages (from ultralytics) (9.0.0)\n",
            "Requirement already satisfied: pandas>=1.1.4 in /usr/local/lib/python3.11/dist-packages (from ultralytics) (2.2.2)\n",
            "Requirement already satisfied: ultralytics-thop>=2.0.0 in /usr/local/lib/python3.11/dist-packages (from ultralytics) (2.0.14)\n",
            "Requirement already satisfied: contourpy>=1.0.1 in /usr/local/lib/python3.11/dist-packages (from matplotlib>=3.3.0->ultralytics) (1.3.2)\n",
            "Requirement already satisfied: cycler>=0.10 in /usr/local/lib/python3.11/dist-packages (from matplotlib>=3.3.0->ultralytics) (0.12.1)\n",
            "Requirement already satisfied: fonttools>=4.22.0 in /usr/local/lib/python3.11/dist-packages (from matplotlib>=3.3.0->ultralytics) (4.58.1)\n",
            "Requirement already satisfied: kiwisolver>=1.3.1 in /usr/local/lib/python3.11/dist-packages (from matplotlib>=3.3.0->ultralytics) (1.4.8)\n",
            "Requirement already satisfied: packaging>=20.0 in /usr/local/lib/python3.11/dist-packages (from matplotlib>=3.3.0->ultralytics) (24.2)\n",
            "Requirement already satisfied: pyparsing>=2.3.1 in /usr/local/lib/python3.11/dist-packages (from matplotlib>=3.3.0->ultralytics) (3.2.3)\n",
            "Requirement already satisfied: python-dateutil>=2.7 in /usr/local/lib/python3.11/dist-packages (from matplotlib>=3.3.0->ultralytics) (2.9.0.post0)\n",
            "Requirement already satisfied: pytz>=2020.1 in /usr/local/lib/python3.11/dist-packages (from pandas>=1.1.4->ultralytics) (2025.2)\n",
            "Requirement already satisfied: tzdata>=2022.7 in /usr/local/lib/python3.11/dist-packages (from pandas>=1.1.4->ultralytics) (2025.2)\n",
            "Requirement already satisfied: charset-normalizer<4,>=2 in /usr/local/lib/python3.11/dist-packages (from requests>=2.23.0->ultralytics) (3.4.2)\n",
            "Requirement already satisfied: idna<4,>=2.5 in /usr/local/lib/python3.11/dist-packages (from requests>=2.23.0->ultralytics) (3.10)\n",
            "Requirement already satisfied: urllib3<3,>=1.21.1 in /usr/local/lib/python3.11/dist-packages (from requests>=2.23.0->ultralytics) (2.4.0)\n",
            "Requirement already satisfied: certifi>=2017.4.17 in /usr/local/lib/python3.11/dist-packages (from requests>=2.23.0->ultralytics) (2025.4.26)\n",
            "Requirement already satisfied: filelock in /usr/local/lib/python3.11/dist-packages (from torch>=1.8.0->ultralytics) (3.18.0)\n",
            "Requirement already satisfied: typing-extensions>=4.10.0 in /usr/local/lib/python3.11/dist-packages (from torch>=1.8.0->ultralytics) (4.14.0)\n",
            "Requirement already satisfied: networkx in /usr/local/lib/python3.11/dist-packages (from torch>=1.8.0->ultralytics) (3.5)\n",
            "Requirement already satisfied: jinja2 in /usr/local/lib/python3.11/dist-packages (from torch>=1.8.0->ultralytics) (3.1.6)\n",
            "Requirement already satisfied: fsspec in /usr/local/lib/python3.11/dist-packages (from torch>=1.8.0->ultralytics) (2025.3.2)\n",
            "Requirement already satisfied: nvidia-cuda-nvrtc-cu12==12.4.127 in /usr/local/lib/python3.11/dist-packages (from torch>=1.8.0->ultralytics) (12.4.127)\n",
            "Requirement already satisfied: nvidia-cuda-runtime-cu12==12.4.127 in /usr/local/lib/python3.11/dist-packages (from torch>=1.8.0->ultralytics) (12.4.127)\n",
            "Requirement already satisfied: nvidia-cuda-cupti-cu12==12.4.127 in /usr/local/lib/python3.11/dist-packages (from torch>=1.8.0->ultralytics) (12.4.127)\n",
            "Requirement already satisfied: nvidia-cudnn-cu12==9.1.0.70 in /usr/local/lib/python3.11/dist-packages (from torch>=1.8.0->ultralytics) (9.1.0.70)\n",
            "Requirement already satisfied: nvidia-cublas-cu12==12.4.5.8 in /usr/local/lib/python3.11/dist-packages (from torch>=1.8.0->ultralytics) (12.4.5.8)\n",
            "Requirement already satisfied: nvidia-cufft-cu12==11.2.1.3 in /usr/local/lib/python3.11/dist-packages (from torch>=1.8.0->ultralytics) (11.2.1.3)\n",
            "Requirement already satisfied: nvidia-curand-cu12==10.3.5.147 in /usr/local/lib/python3.11/dist-packages (from torch>=1.8.0->ultralytics) (10.3.5.147)\n",
            "Requirement already satisfied: nvidia-cusolver-cu12==11.6.1.9 in /usr/local/lib/python3.11/dist-packages (from torch>=1.8.0->ultralytics) (11.6.1.9)\n",
            "Requirement already satisfied: nvidia-cusparse-cu12==12.3.1.170 in /usr/local/lib/python3.11/dist-packages (from torch>=1.8.0->ultralytics) (12.3.1.170)\n",
            "Requirement already satisfied: nvidia-cusparselt-cu12==0.6.2 in /usr/local/lib/python3.11/dist-packages (from torch>=1.8.0->ultralytics) (0.6.2)\n",
            "Requirement already satisfied: nvidia-nccl-cu12==2.21.5 in /usr/local/lib/python3.11/dist-packages (from torch>=1.8.0->ultralytics) (2.21.5)\n",
            "Requirement already satisfied: nvidia-nvtx-cu12==12.4.127 in /usr/local/lib/python3.11/dist-packages (from torch>=1.8.0->ultralytics) (12.4.127)\n",
            "Requirement already satisfied: nvidia-nvjitlink-cu12==12.4.127 in /usr/local/lib/python3.11/dist-packages (from torch>=1.8.0->ultralytics) (12.4.127)\n",
            "Requirement already satisfied: triton==3.2.0 in /usr/local/lib/python3.11/dist-packages (from torch>=1.8.0->ultralytics) (3.2.0)\n",
            "Requirement already satisfied: sympy==1.13.1 in /usr/local/lib/python3.11/dist-packages (from torch>=1.8.0->ultralytics) (1.13.1)\n",
            "Requirement already satisfied: mpmath<1.4,>=1.1.0 in /usr/local/lib/python3.11/dist-packages (from sympy==1.13.1->torch>=1.8.0->ultralytics) (1.3.0)\n",
            "Requirement already satisfied: six>=1.5 in /usr/local/lib/python3.11/dist-packages (from python-dateutil>=2.7->matplotlib>=3.3.0->ultralytics) (1.17.0)\n",
            "Requirement already satisfied: MarkupSafe>=2.0 in /usr/local/lib/python3.11/dist-packages (from jinja2->torch>=1.8.0->ultralytics) (3.0.2)\n"
          ]
        }
      ],
      "source": [
        "pip install ultralytics"
      ]
    },
    {
      "cell_type": "code",
      "source": [
        "import cv2\n",
        "import pandas as pd\n",
        "import csv\n",
        "from ultralytics import YOLO"
      ],
      "metadata": {
        "id": "PGik4fvghrmb"
      },
      "execution_count": 6,
      "outputs": []
    },
    {
      "cell_type": "code",
      "source": [
        "model = YOLO(\"yolo11n.yaml\")\n",
        "model = YOLO(\"yolo11n.pt\")\n",
        "model = YOLO(\"yolo11n.yaml\").load(\"yolo11n.pt\")\n",
        "\n",
        "results = model.train(data=\"coco8.yaml\", epochs=115, imgsz=640)"
      ],
      "metadata": {
        "colab": {
          "base_uri": "https://localhost:8080/"
        },
        "collapsed": true,
        "id": "fw_zCLn8hzyl",
        "outputId": "eb97a518-79e5-4344-effe-338a0b27f5e8"
      },
      "execution_count": 7,
      "outputs": [
        {
          "output_type": "stream",
          "name": "stdout",
          "text": [
            "Transferred 499/499 items from pretrained weights\n",
            "Ultralytics 8.3.152 🚀 Python-3.11.13 torch-2.6.0+cu124 CUDA:0 (Tesla T4, 15095MiB)\n",
            "\u001b[34m\u001b[1mengine/trainer: \u001b[0magnostic_nms=False, amp=True, augment=False, auto_augment=randaugment, batch=16, bgr=0.0, box=7.5, cache=False, cfg=None, classes=None, close_mosaic=10, cls=0.5, conf=None, copy_paste=0.0, copy_paste_mode=flip, cos_lr=False, cutmix=0.0, data=coco8.yaml, degrees=0.0, deterministic=True, device=None, dfl=1.5, dnn=False, dropout=0.0, dynamic=False, embed=None, epochs=115, erasing=0.4, exist_ok=False, fliplr=0.5, flipud=0.0, format=torchscript, fraction=1.0, freeze=None, half=False, hsv_h=0.015, hsv_s=0.7, hsv_v=0.4, imgsz=640, int8=False, iou=0.7, keras=False, kobj=1.0, line_width=None, lr0=0.01, lrf=0.01, mask_ratio=4, max_det=300, mixup=0.0, mode=train, model=yolo11n.yaml, momentum=0.937, mosaic=1.0, multi_scale=False, name=train3, nbs=64, nms=False, opset=None, optimize=False, optimizer=auto, overlap_mask=True, patience=100, perspective=0.0, plots=True, pose=12.0, pretrained=yolo11n.pt, profile=False, project=None, rect=False, resume=False, retina_masks=False, save=True, save_conf=False, save_crop=False, save_dir=runs/detect/train3, save_frames=False, save_json=False, save_period=-1, save_txt=False, scale=0.5, seed=0, shear=0.0, show=False, show_boxes=True, show_conf=True, show_labels=True, simplify=True, single_cls=False, source=None, split=val, stream_buffer=False, task=detect, time=None, tracker=botsort.yaml, translate=0.1, val=True, verbose=True, vid_stride=1, visualize=False, warmup_bias_lr=0.1, warmup_epochs=3.0, warmup_momentum=0.8, weight_decay=0.0005, workers=8, workspace=None\n",
            "\n",
            "                   from  n    params  module                                       arguments                     \n",
            "  0                  -1  1       464  ultralytics.nn.modules.conv.Conv             [3, 16, 3, 2]                 \n",
            "  1                  -1  1      4672  ultralytics.nn.modules.conv.Conv             [16, 32, 3, 2]                \n",
            "  2                  -1  1      6640  ultralytics.nn.modules.block.C3k2            [32, 64, 1, False, 0.25]      \n",
            "  3                  -1  1     36992  ultralytics.nn.modules.conv.Conv             [64, 64, 3, 2]                \n",
            "  4                  -1  1     26080  ultralytics.nn.modules.block.C3k2            [64, 128, 1, False, 0.25]     \n",
            "  5                  -1  1    147712  ultralytics.nn.modules.conv.Conv             [128, 128, 3, 2]              \n",
            "  6                  -1  1     87040  ultralytics.nn.modules.block.C3k2            [128, 128, 1, True]           \n",
            "  7                  -1  1    295424  ultralytics.nn.modules.conv.Conv             [128, 256, 3, 2]              \n",
            "  8                  -1  1    346112  ultralytics.nn.modules.block.C3k2            [256, 256, 1, True]           \n",
            "  9                  -1  1    164608  ultralytics.nn.modules.block.SPPF            [256, 256, 5]                 \n",
            " 10                  -1  1    249728  ultralytics.nn.modules.block.C2PSA           [256, 256, 1]                 \n",
            " 11                  -1  1         0  torch.nn.modules.upsampling.Upsample         [None, 2, 'nearest']          \n",
            " 12             [-1, 6]  1         0  ultralytics.nn.modules.conv.Concat           [1]                           \n",
            " 13                  -1  1    111296  ultralytics.nn.modules.block.C3k2            [384, 128, 1, False]          \n",
            " 14                  -1  1         0  torch.nn.modules.upsampling.Upsample         [None, 2, 'nearest']          \n",
            " 15             [-1, 4]  1         0  ultralytics.nn.modules.conv.Concat           [1]                           \n",
            " 16                  -1  1     32096  ultralytics.nn.modules.block.C3k2            [256, 64, 1, False]           \n",
            " 17                  -1  1     36992  ultralytics.nn.modules.conv.Conv             [64, 64, 3, 2]                \n",
            " 18            [-1, 13]  1         0  ultralytics.nn.modules.conv.Concat           [1]                           \n",
            " 19                  -1  1     86720  ultralytics.nn.modules.block.C3k2            [192, 128, 1, False]          \n",
            " 20                  -1  1    147712  ultralytics.nn.modules.conv.Conv             [128, 128, 3, 2]              \n",
            " 21            [-1, 10]  1         0  ultralytics.nn.modules.conv.Concat           [1]                           \n",
            " 22                  -1  1    378880  ultralytics.nn.modules.block.C3k2            [384, 256, 1, True]           \n",
            " 23        [16, 19, 22]  1    464912  ultralytics.nn.modules.head.Detect           [80, [64, 128, 256]]          \n",
            "YOLO11n summary: 181 layers, 2,624,080 parameters, 2,624,064 gradients, 6.6 GFLOPs\n",
            "\n",
            "Transferred 499/499 items from pretrained weights\n",
            "Freezing layer 'model.23.dfl.conv.weight'\n",
            "\u001b[34m\u001b[1mAMP: \u001b[0mrunning Automatic Mixed Precision (AMP) checks...\n",
            "\u001b[34m\u001b[1mAMP: \u001b[0mchecks passed ✅\n",
            "\u001b[34m\u001b[1mtrain: \u001b[0mFast image access ✅ (ping: 0.0±0.0 ms, read: 199.4±197.3 MB/s, size: 50.0 KB)\n"
          ]
        },
        {
          "output_type": "stream",
          "name": "stderr",
          "text": [
            "\u001b[34m\u001b[1mtrain: \u001b[0mScanning /content/datasets/coco8/labels/train.cache... 4 images, 0 backgrounds, 0 corrupt: 100%|██████████| 4/4 [00:00<?, ?it/s]\n"
          ]
        },
        {
          "output_type": "stream",
          "name": "stdout",
          "text": [
            "\u001b[34m\u001b[1malbumentations: \u001b[0mBlur(p=0.01, blur_limit=(3, 7)), MedianBlur(p=0.01, blur_limit=(3, 7)), ToGray(p=0.01, method='weighted_average', num_output_channels=3), CLAHE(p=0.01, clip_limit=(1.0, 4.0), tile_grid_size=(8, 8))\n",
            "\u001b[34m\u001b[1mval: \u001b[0mFast image access ✅ (ping: 0.0±0.0 ms, read: 87.4±100.9 MB/s, size: 54.0 KB)\n"
          ]
        },
        {
          "output_type": "stream",
          "name": "stderr",
          "text": [
            "\u001b[34m\u001b[1mval: \u001b[0mScanning /content/datasets/coco8/labels/val.cache... 4 images, 0 backgrounds, 0 corrupt: 100%|██████████| 4/4 [00:00<?, ?it/s]\n"
          ]
        },
        {
          "output_type": "stream",
          "name": "stdout",
          "text": [
            "Plotting labels to runs/detect/train3/labels.jpg... \n",
            "\u001b[34m\u001b[1moptimizer:\u001b[0m 'optimizer=auto' found, ignoring 'lr0=0.01' and 'momentum=0.937' and determining best 'optimizer', 'lr0' and 'momentum' automatically... \n",
            "\u001b[34m\u001b[1moptimizer:\u001b[0m AdamW(lr=0.000119, momentum=0.9) with parameter groups 81 weight(decay=0.0), 88 weight(decay=0.0005), 87 bias(decay=0.0)\n",
            "Image sizes 640 train, 640 val\n",
            "Using 2 dataloader workers\n",
            "Logging results to \u001b[1mruns/detect/train3\u001b[0m\n",
            "Starting training for 115 epochs...\n",
            "\n",
            "      Epoch    GPU_mem   box_loss   cls_loss   dfl_loss  Instances       Size\n"
          ]
        },
        {
          "output_type": "stream",
          "name": "stderr",
          "text": [
            "      1/115     0.656G     0.9067      2.632      1.333         29        640: 100%|██████████| 1/1 [00:01<00:00,  1.58s/it]\n",
            "                 Class     Images  Instances      Box(P          R      mAP50  mAP50-95): 100%|██████████| 1/1 [00:00<00:00,  3.34it/s]"
          ]
        },
        {
          "output_type": "stream",
          "name": "stdout",
          "text": [
            "                   all          4         17      0.591       0.85      0.877      0.633\n"
          ]
        },
        {
          "output_type": "stream",
          "name": "stderr",
          "text": [
            "\n"
          ]
        },
        {
          "output_type": "stream",
          "name": "stdout",
          "text": [
            "\n",
            "      Epoch    GPU_mem   box_loss   cls_loss   dfl_loss  Instances       Size\n"
          ]
        },
        {
          "output_type": "stream",
          "name": "stderr",
          "text": [
            "      2/115     0.686G      1.326      3.176      1.625         46        640: 100%|██████████| 1/1 [00:00<00:00,  4.81it/s]\n",
            "                 Class     Images  Instances      Box(P          R      mAP50  mAP50-95): 100%|██████████| 1/1 [00:00<00:00,  6.67it/s]\n"
          ]
        },
        {
          "output_type": "stream",
          "name": "stdout",
          "text": [
            "                   all          4         17      0.583       0.85      0.847      0.631\n",
            "\n",
            "      Epoch    GPU_mem   box_loss   cls_loss   dfl_loss  Instances       Size\n"
          ]
        },
        {
          "output_type": "stream",
          "name": "stderr",
          "text": [
            "      3/115     0.689G     0.9825      3.035      1.328         20        640: 100%|██████████| 1/1 [00:00<00:00,  5.04it/s]\n",
            "                 Class     Images  Instances      Box(P          R      mAP50  mAP50-95): 100%|██████████| 1/1 [00:00<00:00, 12.25it/s]"
          ]
        },
        {
          "output_type": "stream",
          "name": "stdout",
          "text": [
            "                   all          4         17      0.586       0.85      0.851      0.613\n"
          ]
        },
        {
          "output_type": "stream",
          "name": "stderr",
          "text": [
            "\n"
          ]
        },
        {
          "output_type": "stream",
          "name": "stdout",
          "text": [
            "\n",
            "      Epoch    GPU_mem   box_loss   cls_loss   dfl_loss  Instances       Size\n"
          ]
        },
        {
          "output_type": "stream",
          "name": "stderr",
          "text": [
            "      4/115     0.689G      1.283      3.208      1.582         35        640: 100%|██████████| 1/1 [00:00<00:00,  7.23it/s]\n",
            "                 Class     Images  Instances      Box(P          R      mAP50  mAP50-95): 100%|██████████| 1/1 [00:00<00:00, 17.49it/s]"
          ]
        },
        {
          "output_type": "stream",
          "name": "stdout",
          "text": [
            "                   all          4         17      0.633      0.923      0.905       0.64\n"
          ]
        },
        {
          "output_type": "stream",
          "name": "stderr",
          "text": [
            "\n"
          ]
        },
        {
          "output_type": "stream",
          "name": "stdout",
          "text": [
            "\n",
            "      Epoch    GPU_mem   box_loss   cls_loss   dfl_loss  Instances       Size\n"
          ]
        },
        {
          "output_type": "stream",
          "name": "stderr",
          "text": [
            "      5/115     0.689G      1.163      3.556      1.569         15        640: 100%|██████████| 1/1 [00:00<00:00,  7.66it/s]\n",
            "                 Class     Images  Instances      Box(P          R      mAP50  mAP50-95): 100%|██████████| 1/1 [00:00<00:00, 17.36it/s]"
          ]
        },
        {
          "output_type": "stream",
          "name": "stdout",
          "text": [
            "                   all          4         17       0.59       0.85      0.874      0.637\n"
          ]
        },
        {
          "output_type": "stream",
          "name": "stderr",
          "text": [
            "\n"
          ]
        },
        {
          "output_type": "stream",
          "name": "stdout",
          "text": [
            "\n",
            "      Epoch    GPU_mem   box_loss   cls_loss   dfl_loss  Instances       Size\n"
          ]
        },
        {
          "output_type": "stream",
          "name": "stderr",
          "text": [
            "      6/115     0.695G     0.9876      3.227      1.334         31        640: 100%|██████████| 1/1 [00:00<00:00,  3.90it/s]\n",
            "                 Class     Images  Instances      Box(P          R      mAP50  mAP50-95): 100%|██████████| 1/1 [00:00<00:00, 17.08it/s]"
          ]
        },
        {
          "output_type": "stream",
          "name": "stdout",
          "text": [
            "                   all          4         17      0.607       0.85      0.857      0.627\n"
          ]
        },
        {
          "output_type": "stream",
          "name": "stderr",
          "text": [
            "\n"
          ]
        },
        {
          "output_type": "stream",
          "name": "stdout",
          "text": [
            "\n",
            "      Epoch    GPU_mem   box_loss   cls_loss   dfl_loss  Instances       Size\n"
          ]
        },
        {
          "output_type": "stream",
          "name": "stderr",
          "text": [
            "      7/115     0.723G      1.287       2.92      1.586         35        640: 100%|██████████| 1/1 [00:00<00:00,  6.62it/s]\n",
            "                 Class     Images  Instances      Box(P          R      mAP50  mAP50-95): 100%|██████████| 1/1 [00:00<00:00, 17.38it/s]"
          ]
        },
        {
          "output_type": "stream",
          "name": "stdout",
          "text": [
            "                   all          4         17      0.606       0.85       0.86      0.627\n"
          ]
        },
        {
          "output_type": "stream",
          "name": "stderr",
          "text": [
            "\n"
          ]
        },
        {
          "output_type": "stream",
          "name": "stdout",
          "text": [
            "\n",
            "      Epoch    GPU_mem   box_loss   cls_loss   dfl_loss  Instances       Size\n"
          ]
        },
        {
          "output_type": "stream",
          "name": "stderr",
          "text": [
            "      8/115     0.723G      1.151      2.679       1.44         34        640: 100%|██████████| 1/1 [00:00<00:00,  7.33it/s]\n",
            "                 Class     Images  Instances      Box(P          R      mAP50  mAP50-95): 100%|██████████| 1/1 [00:00<00:00, 17.44it/s]"
          ]
        },
        {
          "output_type": "stream",
          "name": "stdout",
          "text": [
            "                   all          4         17      0.565      0.851       0.86      0.628\n"
          ]
        },
        {
          "output_type": "stream",
          "name": "stderr",
          "text": [
            "\n"
          ]
        },
        {
          "output_type": "stream",
          "name": "stdout",
          "text": [
            "\n",
            "      Epoch    GPU_mem   box_loss   cls_loss   dfl_loss  Instances       Size\n"
          ]
        },
        {
          "output_type": "stream",
          "name": "stderr",
          "text": [
            "      9/115     0.723G      1.242      2.862       1.52         40        640: 100%|██████████| 1/1 [00:00<00:00,  7.36it/s]\n",
            "                 Class     Images  Instances      Box(P          R      mAP50  mAP50-95): 100%|██████████| 1/1 [00:00<00:00, 16.70it/s]"
          ]
        },
        {
          "output_type": "stream",
          "name": "stdout",
          "text": [
            "                   all          4         17      0.589      0.867      0.896      0.616\n"
          ]
        },
        {
          "output_type": "stream",
          "name": "stderr",
          "text": [
            "\n"
          ]
        },
        {
          "output_type": "stream",
          "name": "stdout",
          "text": [
            "\n",
            "      Epoch    GPU_mem   box_loss   cls_loss   dfl_loss  Instances       Size\n"
          ]
        },
        {
          "output_type": "stream",
          "name": "stderr",
          "text": [
            "     10/115     0.723G     0.9275      2.632      1.219         30        640: 100%|██████████| 1/1 [00:00<00:00,  6.89it/s]\n",
            "                 Class     Images  Instances      Box(P          R      mAP50  mAP50-95): 100%|██████████| 1/1 [00:00<00:00, 17.59it/s]"
          ]
        },
        {
          "output_type": "stream",
          "name": "stdout",
          "text": [
            "                   all          4         17      0.574      0.867      0.896      0.615\n"
          ]
        },
        {
          "output_type": "stream",
          "name": "stderr",
          "text": [
            "\n"
          ]
        },
        {
          "output_type": "stream",
          "name": "stdout",
          "text": [
            "\n",
            "      Epoch    GPU_mem   box_loss   cls_loss   dfl_loss  Instances       Size\n"
          ]
        },
        {
          "output_type": "stream",
          "name": "stderr",
          "text": [
            "     11/115     0.738G      1.022      2.141      1.357         18        640: 100%|██████████| 1/1 [00:00<00:00,  7.15it/s]\n",
            "                 Class     Images  Instances      Box(P          R      mAP50  mAP50-95): 100%|██████████| 1/1 [00:00<00:00, 17.49it/s]"
          ]
        },
        {
          "output_type": "stream",
          "name": "stdout",
          "text": [
            "                   all          4         17      0.549      0.867      0.897      0.628\n"
          ]
        },
        {
          "output_type": "stream",
          "name": "stderr",
          "text": [
            "\n"
          ]
        },
        {
          "output_type": "stream",
          "name": "stdout",
          "text": [
            "\n",
            "      Epoch    GPU_mem   box_loss   cls_loss   dfl_loss  Instances       Size\n"
          ]
        },
        {
          "output_type": "stream",
          "name": "stderr",
          "text": [
            "     12/115     0.754G      1.127      2.133      1.471         17        640: 100%|██████████| 1/1 [00:00<00:00,  6.98it/s]\n",
            "                 Class     Images  Instances      Box(P          R      mAP50  mAP50-95): 100%|██████████| 1/1 [00:00<00:00, 16.03it/s]"
          ]
        },
        {
          "output_type": "stream",
          "name": "stdout",
          "text": [
            "                   all          4         17      0.568      0.867      0.895      0.621\n"
          ]
        },
        {
          "output_type": "stream",
          "name": "stderr",
          "text": [
            "\n"
          ]
        },
        {
          "output_type": "stream",
          "name": "stdout",
          "text": [
            "\n",
            "      Epoch    GPU_mem   box_loss   cls_loss   dfl_loss  Instances       Size\n"
          ]
        },
        {
          "output_type": "stream",
          "name": "stderr",
          "text": [
            "     13/115     0.768G     0.8292      2.378      1.224         28        640: 100%|██████████| 1/1 [00:00<00:00,  7.03it/s]\n",
            "                 Class     Images  Instances      Box(P          R      mAP50  mAP50-95): 100%|██████████| 1/1 [00:00<00:00, 17.47it/s]"
          ]
        },
        {
          "output_type": "stream",
          "name": "stdout",
          "text": [
            "                   all          4         17      0.632       0.94      0.912      0.642\n"
          ]
        },
        {
          "output_type": "stream",
          "name": "stderr",
          "text": [
            "\n"
          ]
        },
        {
          "output_type": "stream",
          "name": "stdout",
          "text": [
            "\n",
            "      Epoch    GPU_mem   box_loss   cls_loss   dfl_loss  Instances       Size\n"
          ]
        },
        {
          "output_type": "stream",
          "name": "stderr",
          "text": [
            "     14/115      0.77G     0.9927       2.33      1.316         43        640: 100%|██████████| 1/1 [00:00<00:00,  7.51it/s]\n",
            "                 Class     Images  Instances      Box(P          R      mAP50  mAP50-95): 100%|██████████| 1/1 [00:00<00:00, 17.37it/s]"
          ]
        },
        {
          "output_type": "stream",
          "name": "stdout",
          "text": [
            "                   all          4         17      0.631       0.95      0.911      0.647\n"
          ]
        },
        {
          "output_type": "stream",
          "name": "stderr",
          "text": [
            "\n"
          ]
        },
        {
          "output_type": "stream",
          "name": "stdout",
          "text": [
            "\n",
            "      Epoch    GPU_mem   box_loss   cls_loss   dfl_loss  Instances       Size\n"
          ]
        },
        {
          "output_type": "stream",
          "name": "stderr",
          "text": [
            "     15/115      0.77G     0.8666      2.315      1.264         32        640: 100%|██████████| 1/1 [00:00<00:00,  7.13it/s]\n",
            "                 Class     Images  Instances      Box(P          R      mAP50  mAP50-95): 100%|██████████| 1/1 [00:00<00:00, 17.57it/s]"
          ]
        },
        {
          "output_type": "stream",
          "name": "stdout",
          "text": [
            "                   all          4         17      0.642       0.95      0.913       0.65\n"
          ]
        },
        {
          "output_type": "stream",
          "name": "stderr",
          "text": [
            "\n"
          ]
        },
        {
          "output_type": "stream",
          "name": "stdout",
          "text": [
            "\n",
            "      Epoch    GPU_mem   box_loss   cls_loss   dfl_loss  Instances       Size\n"
          ]
        },
        {
          "output_type": "stream",
          "name": "stderr",
          "text": [
            "     16/115      0.77G      1.065      1.957      1.604         26        640: 100%|██████████| 1/1 [00:00<00:00,  6.79it/s]\n",
            "                 Class     Images  Instances      Box(P          R      mAP50  mAP50-95): 100%|██████████| 1/1 [00:00<00:00, 17.51it/s]"
          ]
        },
        {
          "output_type": "stream",
          "name": "stdout",
          "text": [
            "                   all          4         17      0.641       0.95      0.912       0.65\n"
          ]
        },
        {
          "output_type": "stream",
          "name": "stderr",
          "text": [
            "\n"
          ]
        },
        {
          "output_type": "stream",
          "name": "stdout",
          "text": [
            "\n",
            "      Epoch    GPU_mem   box_loss   cls_loss   dfl_loss  Instances       Size\n"
          ]
        },
        {
          "output_type": "stream",
          "name": "stderr",
          "text": [
            "     17/115      0.77G     0.9649      1.169      1.193         28        640: 100%|██████████| 1/1 [00:00<00:00,  6.72it/s]\n",
            "                 Class     Images  Instances      Box(P          R      mAP50  mAP50-95): 100%|██████████| 1/1 [00:00<00:00, 12.53it/s]"
          ]
        },
        {
          "output_type": "stream",
          "name": "stdout",
          "text": [
            "                   all          4         17       0.64       0.95      0.912       0.64\n"
          ]
        },
        {
          "output_type": "stream",
          "name": "stderr",
          "text": [
            "\n"
          ]
        },
        {
          "output_type": "stream",
          "name": "stdout",
          "text": [
            "\n",
            "      Epoch    GPU_mem   box_loss   cls_loss   dfl_loss  Instances       Size\n"
          ]
        },
        {
          "output_type": "stream",
          "name": "stderr",
          "text": [
            "     18/115      0.77G     0.7643      2.607       1.36         19        640: 100%|██████████| 1/1 [00:00<00:00,  7.48it/s]\n",
            "                 Class     Images  Instances      Box(P          R      mAP50  mAP50-95): 100%|██████████| 1/1 [00:00<00:00, 14.17it/s]"
          ]
        },
        {
          "output_type": "stream",
          "name": "stdout",
          "text": [
            "                   all          4         17       0.64       0.95      0.912       0.64\n"
          ]
        },
        {
          "output_type": "stream",
          "name": "stderr",
          "text": [
            "\n"
          ]
        },
        {
          "output_type": "stream",
          "name": "stdout",
          "text": [
            "\n",
            "      Epoch    GPU_mem   box_loss   cls_loss   dfl_loss  Instances       Size\n"
          ]
        },
        {
          "output_type": "stream",
          "name": "stderr",
          "text": [
            "     19/115      0.77G      1.046       2.73      1.383         19        640: 100%|██████████| 1/1 [00:00<00:00,  6.86it/s]\n",
            "                 Class     Images  Instances      Box(P          R      mAP50  mAP50-95): 100%|██████████| 1/1 [00:00<00:00, 16.86it/s]"
          ]
        },
        {
          "output_type": "stream",
          "name": "stdout",
          "text": [
            "                   all          4         17      0.638       0.95      0.913      0.639\n"
          ]
        },
        {
          "output_type": "stream",
          "name": "stderr",
          "text": [
            "\n"
          ]
        },
        {
          "output_type": "stream",
          "name": "stdout",
          "text": [
            "\n",
            "      Epoch    GPU_mem   box_loss   cls_loss   dfl_loss  Instances       Size\n"
          ]
        },
        {
          "output_type": "stream",
          "name": "stderr",
          "text": [
            "     20/115      0.77G     0.9496      1.773      1.392         23        640: 100%|██████████| 1/1 [00:00<00:00,  6.98it/s]\n",
            "                 Class     Images  Instances      Box(P          R      mAP50  mAP50-95): 100%|██████████| 1/1 [00:00<00:00, 17.65it/s]"
          ]
        },
        {
          "output_type": "stream",
          "name": "stdout",
          "text": [
            "                   all          4         17      0.638       0.95      0.913      0.639\n"
          ]
        },
        {
          "output_type": "stream",
          "name": "stderr",
          "text": [
            "\n"
          ]
        },
        {
          "output_type": "stream",
          "name": "stdout",
          "text": [
            "\n",
            "      Epoch    GPU_mem   box_loss   cls_loss   dfl_loss  Instances       Size\n"
          ]
        },
        {
          "output_type": "stream",
          "name": "stderr",
          "text": [
            "     21/115     0.781G      1.256      2.327      1.451         34        640: 100%|██████████| 1/1 [00:00<00:00,  7.05it/s]\n",
            "                 Class     Images  Instances      Box(P          R      mAP50  mAP50-95): 100%|██████████| 1/1 [00:00<00:00, 17.69it/s]"
          ]
        },
        {
          "output_type": "stream",
          "name": "stdout",
          "text": [
            "                   all          4         17      0.649       0.95      0.911      0.619\n"
          ]
        },
        {
          "output_type": "stream",
          "name": "stderr",
          "text": [
            "\n"
          ]
        },
        {
          "output_type": "stream",
          "name": "stdout",
          "text": [
            "\n",
            "      Epoch    GPU_mem   box_loss   cls_loss   dfl_loss  Instances       Size\n"
          ]
        },
        {
          "output_type": "stream",
          "name": "stderr",
          "text": [
            "     22/115     0.781G      1.152      2.608      1.383         40        640: 100%|██████████| 1/1 [00:00<00:00,  7.67it/s]\n",
            "                 Class     Images  Instances      Box(P          R      mAP50  mAP50-95): 100%|██████████| 1/1 [00:00<00:00,  3.71it/s]"
          ]
        },
        {
          "output_type": "stream",
          "name": "stdout",
          "text": [
            "                   all          4         17      0.649       0.95      0.911      0.619\n"
          ]
        },
        {
          "output_type": "stream",
          "name": "stderr",
          "text": [
            "\n"
          ]
        },
        {
          "output_type": "stream",
          "name": "stdout",
          "text": [
            "\n",
            "      Epoch    GPU_mem   box_loss   cls_loss   dfl_loss  Instances       Size\n"
          ]
        },
        {
          "output_type": "stream",
          "name": "stderr",
          "text": [
            "     23/115     0.781G      1.012      1.641      1.237         34        640: 100%|██████████| 1/1 [00:00<00:00,  1.39it/s]\n",
            "                 Class     Images  Instances      Box(P          R      mAP50  mAP50-95): 100%|██████████| 1/1 [00:00<00:00,  8.80it/s]"
          ]
        },
        {
          "output_type": "stream",
          "name": "stdout",
          "text": [
            "                   all          4         17      0.639      0.911      0.909      0.622\n"
          ]
        },
        {
          "output_type": "stream",
          "name": "stderr",
          "text": [
            "\n"
          ]
        },
        {
          "output_type": "stream",
          "name": "stdout",
          "text": [
            "\n",
            "      Epoch    GPU_mem   box_loss   cls_loss   dfl_loss  Instances       Size\n"
          ]
        },
        {
          "output_type": "stream",
          "name": "stderr",
          "text": [
            "     24/115     0.787G     0.9651      1.997      1.239         51        640: 100%|██████████| 1/1 [00:00<00:00,  6.02it/s]\n",
            "                 Class     Images  Instances      Box(P          R      mAP50  mAP50-95): 100%|██████████| 1/1 [00:00<00:00, 16.63it/s]"
          ]
        },
        {
          "output_type": "stream",
          "name": "stdout",
          "text": [
            "                   all          4         17      0.639      0.911      0.909      0.622\n"
          ]
        },
        {
          "output_type": "stream",
          "name": "stderr",
          "text": [
            "\n"
          ]
        },
        {
          "output_type": "stream",
          "name": "stdout",
          "text": [
            "\n",
            "      Epoch    GPU_mem   box_loss   cls_loss   dfl_loss  Instances       Size\n"
          ]
        },
        {
          "output_type": "stream",
          "name": "stderr",
          "text": [
            "     25/115     0.811G     0.8635      1.338      1.195         23        640: 100%|██████████| 1/1 [00:00<00:00,  4.31it/s]\n",
            "                 Class     Images  Instances      Box(P          R      mAP50  mAP50-95): 100%|██████████| 1/1 [00:00<00:00, 13.55it/s]"
          ]
        },
        {
          "output_type": "stream",
          "name": "stdout",
          "text": [
            "                   all          4         17      0.843       0.65      0.856      0.615\n"
          ]
        },
        {
          "output_type": "stream",
          "name": "stderr",
          "text": [
            "\n"
          ]
        },
        {
          "output_type": "stream",
          "name": "stdout",
          "text": [
            "\n",
            "      Epoch    GPU_mem   box_loss   cls_loss   dfl_loss  Instances       Size\n"
          ]
        },
        {
          "output_type": "stream",
          "name": "stderr",
          "text": [
            "     26/115     0.811G     0.9228      1.724      1.328         24        640: 100%|██████████| 1/1 [00:00<00:00,  6.75it/s]\n",
            "                 Class     Images  Instances      Box(P          R      mAP50  mAP50-95): 100%|██████████| 1/1 [00:00<00:00, 17.79it/s]"
          ]
        },
        {
          "output_type": "stream",
          "name": "stdout",
          "text": [
            "                   all          4         17      0.843       0.65      0.856      0.615\n"
          ]
        },
        {
          "output_type": "stream",
          "name": "stderr",
          "text": [
            "\n"
          ]
        },
        {
          "output_type": "stream",
          "name": "stdout",
          "text": [
            "\n",
            "      Epoch    GPU_mem   box_loss   cls_loss   dfl_loss  Instances       Size\n"
          ]
        },
        {
          "output_type": "stream",
          "name": "stderr",
          "text": [
            "     27/115     0.811G     0.5265      1.237       1.05         22        640: 100%|██████████| 1/1 [00:00<00:00,  6.82it/s]\n",
            "                 Class     Images  Instances      Box(P          R      mAP50  mAP50-95): 100%|██████████| 1/1 [00:00<00:00, 17.56it/s]"
          ]
        },
        {
          "output_type": "stream",
          "name": "stdout",
          "text": [
            "                   all          4         17      0.831       0.65      0.856      0.619\n"
          ]
        },
        {
          "output_type": "stream",
          "name": "stderr",
          "text": [
            "\n"
          ]
        },
        {
          "output_type": "stream",
          "name": "stdout",
          "text": [
            "\n",
            "      Epoch    GPU_mem   box_loss   cls_loss   dfl_loss  Instances       Size\n"
          ]
        },
        {
          "output_type": "stream",
          "name": "stderr",
          "text": [
            "     28/115     0.818G     0.9968      1.476      1.314         31        640: 100%|██████████| 1/1 [00:00<00:00,  8.82it/s]\n",
            "                 Class     Images  Instances      Box(P          R      mAP50  mAP50-95): 100%|██████████| 1/1 [00:00<00:00, 17.78it/s]"
          ]
        },
        {
          "output_type": "stream",
          "name": "stdout",
          "text": [
            "                   all          4         17      0.831       0.65      0.856      0.619\n"
          ]
        },
        {
          "output_type": "stream",
          "name": "stderr",
          "text": [
            "\n"
          ]
        },
        {
          "output_type": "stream",
          "name": "stdout",
          "text": [
            "\n",
            "      Epoch    GPU_mem   box_loss   cls_loss   dfl_loss  Instances       Size\n"
          ]
        },
        {
          "output_type": "stream",
          "name": "stderr",
          "text": [
            "     29/115      0.84G     0.7629      1.093      1.068         27        640: 100%|██████████| 1/1 [00:00<00:00,  6.84it/s]\n",
            "                 Class     Images  Instances      Box(P          R      mAP50  mAP50-95): 100%|██████████| 1/1 [00:00<00:00, 17.74it/s]"
          ]
        },
        {
          "output_type": "stream",
          "name": "stdout",
          "text": [
            "                   all          4         17      0.835       0.65      0.856      0.619\n"
          ]
        },
        {
          "output_type": "stream",
          "name": "stderr",
          "text": [
            "\n"
          ]
        },
        {
          "output_type": "stream",
          "name": "stdout",
          "text": [
            "\n",
            "      Epoch    GPU_mem   box_loss   cls_loss   dfl_loss  Instances       Size\n"
          ]
        },
        {
          "output_type": "stream",
          "name": "stderr",
          "text": [
            "     30/115      0.84G     0.9912      1.843      1.627         15        640: 100%|██████████| 1/1 [00:00<00:00,  8.45it/s]\n",
            "                 Class     Images  Instances      Box(P          R      mAP50  mAP50-95): 100%|██████████| 1/1 [00:00<00:00, 17.95it/s]"
          ]
        },
        {
          "output_type": "stream",
          "name": "stdout",
          "text": [
            "                   all          4         17      0.835       0.65      0.856      0.619\n"
          ]
        },
        {
          "output_type": "stream",
          "name": "stderr",
          "text": [
            "\n"
          ]
        },
        {
          "output_type": "stream",
          "name": "stdout",
          "text": [
            "\n",
            "      Epoch    GPU_mem   box_loss   cls_loss   dfl_loss  Instances       Size\n"
          ]
        },
        {
          "output_type": "stream",
          "name": "stderr",
          "text": [
            "     31/115      0.84G     0.9135      1.768      1.307         37        640: 100%|██████████| 1/1 [00:00<00:00,  6.99it/s]\n",
            "                 Class     Images  Instances      Box(P          R      mAP50  mAP50-95): 100%|██████████| 1/1 [00:00<00:00, 17.11it/s]"
          ]
        },
        {
          "output_type": "stream",
          "name": "stdout",
          "text": [
            "                   all          4         17      0.825       0.65      0.856      0.617\n"
          ]
        },
        {
          "output_type": "stream",
          "name": "stderr",
          "text": [
            "\n"
          ]
        },
        {
          "output_type": "stream",
          "name": "stdout",
          "text": [
            "\n",
            "      Epoch    GPU_mem   box_loss   cls_loss   dfl_loss  Instances       Size\n"
          ]
        },
        {
          "output_type": "stream",
          "name": "stderr",
          "text": [
            "     32/115      0.84G     0.9125      1.442      1.278         31        640: 100%|██████████| 1/1 [00:00<00:00,  8.81it/s]\n",
            "                 Class     Images  Instances      Box(P          R      mAP50  mAP50-95): 100%|██████████| 1/1 [00:00<00:00, 14.02it/s]"
          ]
        },
        {
          "output_type": "stream",
          "name": "stdout",
          "text": [
            "                   all          4         17      0.825       0.65      0.856      0.617\n"
          ]
        },
        {
          "output_type": "stream",
          "name": "stderr",
          "text": [
            "\n"
          ]
        },
        {
          "output_type": "stream",
          "name": "stdout",
          "text": [
            "\n",
            "      Epoch    GPU_mem   box_loss   cls_loss   dfl_loss  Instances       Size\n"
          ]
        },
        {
          "output_type": "stream",
          "name": "stderr",
          "text": [
            "     33/115      0.84G     0.9334      1.144      1.229         38        640: 100%|██████████| 1/1 [00:00<00:00,  6.89it/s]\n",
            "                 Class     Images  Instances      Box(P          R      mAP50  mAP50-95): 100%|██████████| 1/1 [00:00<00:00, 17.41it/s]"
          ]
        },
        {
          "output_type": "stream",
          "name": "stdout",
          "text": [
            "                   all          4         17      0.648        0.7      0.854      0.608\n"
          ]
        },
        {
          "output_type": "stream",
          "name": "stderr",
          "text": [
            "\n"
          ]
        },
        {
          "output_type": "stream",
          "name": "stdout",
          "text": [
            "\n",
            "      Epoch    GPU_mem   box_loss   cls_loss   dfl_loss  Instances       Size\n"
          ]
        },
        {
          "output_type": "stream",
          "name": "stderr",
          "text": [
            "     34/115      0.84G     0.9057      1.094      1.383         22        640: 100%|██████████| 1/1 [00:00<00:00,  9.09it/s]\n",
            "                 Class     Images  Instances      Box(P          R      mAP50  mAP50-95): 100%|██████████| 1/1 [00:00<00:00, 13.60it/s]"
          ]
        },
        {
          "output_type": "stream",
          "name": "stdout",
          "text": [
            "                   all          4         17      0.648        0.7      0.854      0.608\n"
          ]
        },
        {
          "output_type": "stream",
          "name": "stderr",
          "text": [
            "\n"
          ]
        },
        {
          "output_type": "stream",
          "name": "stdout",
          "text": [
            "\n",
            "      Epoch    GPU_mem   box_loss   cls_loss   dfl_loss  Instances       Size\n"
          ]
        },
        {
          "output_type": "stream",
          "name": "stderr",
          "text": [
            "     35/115      0.84G     0.7394      1.167      1.151         31        640: 100%|██████████| 1/1 [00:00<00:00,  6.66it/s]\n",
            "                 Class     Images  Instances      Box(P          R      mAP50  mAP50-95): 100%|██████████| 1/1 [00:00<00:00, 16.26it/s]"
          ]
        },
        {
          "output_type": "stream",
          "name": "stdout",
          "text": [
            "                   all          4         17       0.65      0.697      0.854      0.607\n"
          ]
        },
        {
          "output_type": "stream",
          "name": "stderr",
          "text": [
            "\n"
          ]
        },
        {
          "output_type": "stream",
          "name": "stdout",
          "text": [
            "\n",
            "      Epoch    GPU_mem   box_loss   cls_loss   dfl_loss  Instances       Size\n"
          ]
        },
        {
          "output_type": "stream",
          "name": "stderr",
          "text": [
            "     36/115      0.84G      1.084      1.792      1.406         42        640: 100%|██████████| 1/1 [00:00<00:00,  8.67it/s]\n",
            "                 Class     Images  Instances      Box(P          R      mAP50  mAP50-95): 100%|██████████| 1/1 [00:00<00:00, 15.76it/s]\n"
          ]
        },
        {
          "output_type": "stream",
          "name": "stdout",
          "text": [
            "                   all          4         17       0.65      0.697      0.854      0.607\n",
            "\n",
            "      Epoch    GPU_mem   box_loss   cls_loss   dfl_loss  Instances       Size\n"
          ]
        },
        {
          "output_type": "stream",
          "name": "stderr",
          "text": [
            "     37/115      0.84G      1.084      1.084      1.578         11        640: 100%|██████████| 1/1 [00:00<00:00,  6.73it/s]\n",
            "                 Class     Images  Instances      Box(P          R      mAP50  mAP50-95): 100%|██████████| 1/1 [00:00<00:00, 17.90it/s]"
          ]
        },
        {
          "output_type": "stream",
          "name": "stdout",
          "text": [
            "                   all          4         17      0.651      0.691      0.853      0.586\n"
          ]
        },
        {
          "output_type": "stream",
          "name": "stderr",
          "text": [
            "\n"
          ]
        },
        {
          "output_type": "stream",
          "name": "stdout",
          "text": [
            "\n",
            "      Epoch    GPU_mem   box_loss   cls_loss   dfl_loss  Instances       Size\n"
          ]
        },
        {
          "output_type": "stream",
          "name": "stderr",
          "text": [
            "     38/115      0.84G     0.9071      1.571      1.426         19        640: 100%|██████████| 1/1 [00:00<00:00,  9.09it/s]\n",
            "                 Class     Images  Instances      Box(P          R      mAP50  mAP50-95): 100%|██████████| 1/1 [00:00<00:00, 17.96it/s]"
          ]
        },
        {
          "output_type": "stream",
          "name": "stdout",
          "text": [
            "                   all          4         17      0.651      0.691      0.853      0.586\n"
          ]
        },
        {
          "output_type": "stream",
          "name": "stderr",
          "text": [
            "\n"
          ]
        },
        {
          "output_type": "stream",
          "name": "stdout",
          "text": [
            "\n",
            "      Epoch    GPU_mem   box_loss   cls_loss   dfl_loss  Instances       Size\n"
          ]
        },
        {
          "output_type": "stream",
          "name": "stderr",
          "text": [
            "     39/115      0.84G     0.5766      1.293        1.1         24        640: 100%|██████████| 1/1 [00:00<00:00,  7.07it/s]\n",
            "                 Class     Images  Instances      Box(P          R      mAP50  mAP50-95): 100%|██████████| 1/1 [00:00<00:00, 17.65it/s]"
          ]
        },
        {
          "output_type": "stream",
          "name": "stdout",
          "text": [
            "                   all          4         17       0.65      0.683      0.855      0.578\n"
          ]
        },
        {
          "output_type": "stream",
          "name": "stderr",
          "text": [
            "\n"
          ]
        },
        {
          "output_type": "stream",
          "name": "stdout",
          "text": [
            "\n",
            "      Epoch    GPU_mem   box_loss   cls_loss   dfl_loss  Instances       Size\n"
          ]
        },
        {
          "output_type": "stream",
          "name": "stderr",
          "text": [
            "     40/115      0.84G     0.5663     0.7602     0.9527         27        640: 100%|██████████| 1/1 [00:00<00:00,  8.60it/s]\n",
            "                 Class     Images  Instances      Box(P          R      mAP50  mAP50-95): 100%|██████████| 1/1 [00:00<00:00, 17.04it/s]\n"
          ]
        },
        {
          "output_type": "stream",
          "name": "stdout",
          "text": [
            "                   all          4         17       0.65      0.683      0.855      0.578\n",
            "\n",
            "      Epoch    GPU_mem   box_loss   cls_loss   dfl_loss  Instances       Size\n"
          ]
        },
        {
          "output_type": "stream",
          "name": "stderr",
          "text": [
            "     41/115      0.84G      0.856      1.074      1.264         37        640: 100%|██████████| 1/1 [00:00<00:00,  7.06it/s]\n",
            "                 Class     Images  Instances      Box(P          R      mAP50  mAP50-95): 100%|██████████| 1/1 [00:00<00:00, 17.97it/s]"
          ]
        },
        {
          "output_type": "stream",
          "name": "stdout",
          "text": [
            "                   all          4         17      0.709      0.671      0.855      0.574\n"
          ]
        },
        {
          "output_type": "stream",
          "name": "stderr",
          "text": [
            "\n"
          ]
        },
        {
          "output_type": "stream",
          "name": "stdout",
          "text": [
            "\n",
            "      Epoch    GPU_mem   box_loss   cls_loss   dfl_loss  Instances       Size\n"
          ]
        },
        {
          "output_type": "stream",
          "name": "stderr",
          "text": [
            "     42/115      0.84G      1.002      1.056      1.372         20        640: 100%|██████████| 1/1 [00:00<00:00,  9.07it/s]\n",
            "                 Class     Images  Instances      Box(P          R      mAP50  mAP50-95): 100%|██████████| 1/1 [00:00<00:00, 16.15it/s]\n"
          ]
        },
        {
          "output_type": "stream",
          "name": "stdout",
          "text": [
            "                   all          4         17      0.709      0.671      0.855      0.574\n",
            "\n",
            "      Epoch    GPU_mem   box_loss   cls_loss   dfl_loss  Instances       Size\n"
          ]
        },
        {
          "output_type": "stream",
          "name": "stderr",
          "text": [
            "     43/115      0.84G     0.9256      1.787      1.373         29        640: 100%|██████████| 1/1 [00:00<00:00,  7.15it/s]\n",
            "                 Class     Images  Instances      Box(P          R      mAP50  mAP50-95): 100%|██████████| 1/1 [00:00<00:00, 17.67it/s]"
          ]
        },
        {
          "output_type": "stream",
          "name": "stdout",
          "text": [
            "                   all          4         17      0.732      0.516      0.771      0.517\n"
          ]
        },
        {
          "output_type": "stream",
          "name": "stderr",
          "text": [
            "\n"
          ]
        },
        {
          "output_type": "stream",
          "name": "stdout",
          "text": [
            "\n",
            "      Epoch    GPU_mem   box_loss   cls_loss   dfl_loss  Instances       Size\n"
          ]
        },
        {
          "output_type": "stream",
          "name": "stderr",
          "text": [
            "     44/115      0.84G     0.8697       1.09      1.339         21        640: 100%|██████████| 1/1 [00:00<00:00,  9.23it/s]\n",
            "                 Class     Images  Instances      Box(P          R      mAP50  mAP50-95): 100%|██████████| 1/1 [00:00<00:00, 17.84it/s]"
          ]
        },
        {
          "output_type": "stream",
          "name": "stdout",
          "text": [
            "                   all          4         17      0.732      0.516      0.771      0.517\n"
          ]
        },
        {
          "output_type": "stream",
          "name": "stderr",
          "text": [
            "\n"
          ]
        },
        {
          "output_type": "stream",
          "name": "stdout",
          "text": [
            "\n",
            "      Epoch    GPU_mem   box_loss   cls_loss   dfl_loss  Instances       Size\n"
          ]
        },
        {
          "output_type": "stream",
          "name": "stderr",
          "text": [
            "     45/115      0.84G      0.686     0.8969      1.019         38        640: 100%|██████████| 1/1 [00:00<00:00,  4.99it/s]\n",
            "                 Class     Images  Instances      Box(P          R      mAP50  mAP50-95): 100%|██████████| 1/1 [00:00<00:00, 10.86it/s]"
          ]
        },
        {
          "output_type": "stream",
          "name": "stdout",
          "text": [
            "                   all          4         17      0.827      0.472      0.779      0.489\n"
          ]
        },
        {
          "output_type": "stream",
          "name": "stderr",
          "text": [
            "\n"
          ]
        },
        {
          "output_type": "stream",
          "name": "stdout",
          "text": [
            "\n",
            "      Epoch    GPU_mem   box_loss   cls_loss   dfl_loss  Instances       Size\n"
          ]
        },
        {
          "output_type": "stream",
          "name": "stderr",
          "text": [
            "     46/115      0.84G     0.8156      1.036      1.316         20        640: 100%|██████████| 1/1 [00:00<00:00,  4.68it/s]\n",
            "                 Class     Images  Instances      Box(P          R      mAP50  mAP50-95): 100%|██████████| 1/1 [00:00<00:00,  9.37it/s]"
          ]
        },
        {
          "output_type": "stream",
          "name": "stdout",
          "text": [
            "                   all          4         17      0.827      0.472      0.779      0.489\n"
          ]
        },
        {
          "output_type": "stream",
          "name": "stderr",
          "text": [
            "\n"
          ]
        },
        {
          "output_type": "stream",
          "name": "stdout",
          "text": [
            "\n",
            "      Epoch    GPU_mem   box_loss   cls_loss   dfl_loss  Instances       Size\n"
          ]
        },
        {
          "output_type": "stream",
          "name": "stderr",
          "text": [
            "     47/115      0.84G      1.082      1.147      1.648         17        640: 100%|██████████| 1/1 [00:00<00:00,  3.15it/s]\n",
            "                 Class     Images  Instances      Box(P          R      mAP50  mAP50-95): 100%|██████████| 1/1 [00:00<00:00, 11.32it/s]"
          ]
        },
        {
          "output_type": "stream",
          "name": "stdout",
          "text": [
            "                   all          4         17      0.832      0.467      0.737      0.434\n"
          ]
        },
        {
          "output_type": "stream",
          "name": "stderr",
          "text": [
            "\n"
          ]
        },
        {
          "output_type": "stream",
          "name": "stdout",
          "text": [
            "\n",
            "      Epoch    GPU_mem   box_loss   cls_loss   dfl_loss  Instances       Size\n"
          ]
        },
        {
          "output_type": "stream",
          "name": "stderr",
          "text": [
            "     48/115      0.84G     0.8848      1.353      1.319         26        640: 100%|██████████| 1/1 [00:00<00:00,  5.67it/s]\n",
            "                 Class     Images  Instances      Box(P          R      mAP50  mAP50-95): 100%|██████████| 1/1 [00:00<00:00, 10.69it/s]"
          ]
        },
        {
          "output_type": "stream",
          "name": "stdout",
          "text": [
            "                   all          4         17      0.832      0.467      0.737      0.434\n"
          ]
        },
        {
          "output_type": "stream",
          "name": "stderr",
          "text": [
            "\n"
          ]
        },
        {
          "output_type": "stream",
          "name": "stdout",
          "text": [
            "\n",
            "      Epoch    GPU_mem   box_loss   cls_loss   dfl_loss  Instances       Size\n"
          ]
        },
        {
          "output_type": "stream",
          "name": "stderr",
          "text": [
            "     49/115      0.84G       0.72     0.8124      1.104         26        640: 100%|██████████| 1/1 [00:00<00:00,  3.59it/s]\n",
            "                 Class     Images  Instances      Box(P          R      mAP50  mAP50-95): 100%|██████████| 1/1 [00:00<00:00, 10.27it/s]"
          ]
        },
        {
          "output_type": "stream",
          "name": "stdout",
          "text": [
            "                   all          4         17      0.846      0.463       0.74       0.43\n"
          ]
        },
        {
          "output_type": "stream",
          "name": "stderr",
          "text": [
            "\n"
          ]
        },
        {
          "output_type": "stream",
          "name": "stdout",
          "text": [
            "\n",
            "      Epoch    GPU_mem   box_loss   cls_loss   dfl_loss  Instances       Size\n"
          ]
        },
        {
          "output_type": "stream",
          "name": "stderr",
          "text": [
            "     50/115      0.84G      1.015      1.255      1.504         25        640: 100%|██████████| 1/1 [00:00<00:00,  3.22it/s]\n",
            "                 Class     Images  Instances      Box(P          R      mAP50  mAP50-95): 100%|██████████| 1/1 [00:00<00:00,  2.31it/s]"
          ]
        },
        {
          "output_type": "stream",
          "name": "stdout",
          "text": [
            "                   all          4         17      0.846      0.463       0.74       0.43\n"
          ]
        },
        {
          "output_type": "stream",
          "name": "stderr",
          "text": [
            "\n"
          ]
        },
        {
          "output_type": "stream",
          "name": "stdout",
          "text": [
            "\n",
            "      Epoch    GPU_mem   box_loss   cls_loss   dfl_loss  Instances       Size\n"
          ]
        },
        {
          "output_type": "stream",
          "name": "stderr",
          "text": [
            "     51/115      0.84G      0.656     0.7605      1.192         11        640: 100%|██████████| 1/1 [00:00<00:00,  5.02it/s]\n",
            "                 Class     Images  Instances      Box(P          R      mAP50  mAP50-95): 100%|██████████| 1/1 [00:00<00:00, 11.31it/s]"
          ]
        },
        {
          "output_type": "stream",
          "name": "stdout",
          "text": [
            "                   all          4         17      0.829      0.463      0.725      0.424\n"
          ]
        },
        {
          "output_type": "stream",
          "name": "stderr",
          "text": [
            "\n"
          ]
        },
        {
          "output_type": "stream",
          "name": "stdout",
          "text": [
            "\n",
            "      Epoch    GPU_mem   box_loss   cls_loss   dfl_loss  Instances       Size\n"
          ]
        },
        {
          "output_type": "stream",
          "name": "stderr",
          "text": [
            "     52/115      0.84G      1.111      1.052      1.541         13        640: 100%|██████████| 1/1 [00:00<00:00,  8.55it/s]\n",
            "                 Class     Images  Instances      Box(P          R      mAP50  mAP50-95): 100%|██████████| 1/1 [00:00<00:00, 17.43it/s]"
          ]
        },
        {
          "output_type": "stream",
          "name": "stdout",
          "text": [
            "                   all          4         17      0.829      0.463      0.725      0.424\n"
          ]
        },
        {
          "output_type": "stream",
          "name": "stderr",
          "text": [
            "\n"
          ]
        },
        {
          "output_type": "stream",
          "name": "stdout",
          "text": [
            "\n",
            "      Epoch    GPU_mem   box_loss   cls_loss   dfl_loss  Instances       Size\n"
          ]
        },
        {
          "output_type": "stream",
          "name": "stderr",
          "text": [
            "     53/115      0.84G      1.032      1.811      1.522         22        640: 100%|██████████| 1/1 [00:00<00:00,  8.67it/s]\n",
            "                 Class     Images  Instances      Box(P          R      mAP50  mAP50-95): 100%|██████████| 1/1 [00:00<00:00, 17.09it/s]"
          ]
        },
        {
          "output_type": "stream",
          "name": "stdout",
          "text": [
            "                   all          4         17      0.829      0.463      0.725      0.424\n"
          ]
        },
        {
          "output_type": "stream",
          "name": "stderr",
          "text": [
            "\n"
          ]
        },
        {
          "output_type": "stream",
          "name": "stdout",
          "text": [
            "\n",
            "      Epoch    GPU_mem   box_loss   cls_loss   dfl_loss  Instances       Size\n"
          ]
        },
        {
          "output_type": "stream",
          "name": "stderr",
          "text": [
            "     54/115      0.84G     0.8007      1.314      1.083         60        640: 100%|██████████| 1/1 [00:00<00:00,  7.29it/s]\n",
            "                 Class     Images  Instances      Box(P          R      mAP50  mAP50-95): 100%|██████████| 1/1 [00:00<00:00, 18.04it/s]"
          ]
        },
        {
          "output_type": "stream",
          "name": "stdout",
          "text": [
            "                   all          4         17      0.828      0.466      0.551      0.293\n"
          ]
        },
        {
          "output_type": "stream",
          "name": "stderr",
          "text": [
            "\n"
          ]
        },
        {
          "output_type": "stream",
          "name": "stdout",
          "text": [
            "\n",
            "      Epoch    GPU_mem   box_loss   cls_loss   dfl_loss  Instances       Size\n"
          ]
        },
        {
          "output_type": "stream",
          "name": "stderr",
          "text": [
            "     55/115      0.84G     0.6188     0.6616      1.282         12        640: 100%|██████████| 1/1 [00:00<00:00,  9.37it/s]\n",
            "                 Class     Images  Instances      Box(P          R      mAP50  mAP50-95): 100%|██████████| 1/1 [00:00<00:00, 17.90it/s]"
          ]
        },
        {
          "output_type": "stream",
          "name": "stdout",
          "text": [
            "                   all          4         17      0.828      0.466      0.551      0.293\n"
          ]
        },
        {
          "output_type": "stream",
          "name": "stderr",
          "text": [
            "\n"
          ]
        },
        {
          "output_type": "stream",
          "name": "stdout",
          "text": [
            "\n",
            "      Epoch    GPU_mem   box_loss   cls_loss   dfl_loss  Instances       Size\n"
          ]
        },
        {
          "output_type": "stream",
          "name": "stderr",
          "text": [
            "     56/115      0.84G     0.7446     0.6783      1.146         28        640: 100%|██████████| 1/1 [00:00<00:00,  7.62it/s]\n",
            "                 Class     Images  Instances      Box(P          R      mAP50  mAP50-95): 100%|██████████| 1/1 [00:00<00:00, 17.39it/s]"
          ]
        },
        {
          "output_type": "stream",
          "name": "stdout",
          "text": [
            "                   all          4         17      0.828      0.466      0.551      0.293\n"
          ]
        },
        {
          "output_type": "stream",
          "name": "stderr",
          "text": [
            "\n"
          ]
        },
        {
          "output_type": "stream",
          "name": "stdout",
          "text": [
            "\n",
            "      Epoch    GPU_mem   box_loss   cls_loss   dfl_loss  Instances       Size\n"
          ]
        },
        {
          "output_type": "stream",
          "name": "stderr",
          "text": [
            "     57/115      0.84G     0.6312     0.9623      1.119         12        640: 100%|██████████| 1/1 [00:00<00:00,  7.15it/s]\n",
            "                 Class     Images  Instances      Box(P          R      mAP50  mAP50-95): 100%|██████████| 1/1 [00:00<00:00, 17.29it/s]"
          ]
        },
        {
          "output_type": "stream",
          "name": "stdout",
          "text": [
            "                   all          4         17      0.805      0.484      0.556      0.288\n"
          ]
        },
        {
          "output_type": "stream",
          "name": "stderr",
          "text": [
            "\n"
          ]
        },
        {
          "output_type": "stream",
          "name": "stdout",
          "text": [
            "\n",
            "      Epoch    GPU_mem   box_loss   cls_loss   dfl_loss  Instances       Size\n"
          ]
        },
        {
          "output_type": "stream",
          "name": "stderr",
          "text": [
            "     58/115      0.84G     0.8105     0.8662      1.109         47        640: 100%|██████████| 1/1 [00:00<00:00,  8.65it/s]\n",
            "                 Class     Images  Instances      Box(P          R      mAP50  mAP50-95): 100%|██████████| 1/1 [00:00<00:00, 17.43it/s]"
          ]
        },
        {
          "output_type": "stream",
          "name": "stdout",
          "text": [
            "                   all          4         17      0.805      0.484      0.556      0.288\n"
          ]
        },
        {
          "output_type": "stream",
          "name": "stderr",
          "text": [
            "\n"
          ]
        },
        {
          "output_type": "stream",
          "name": "stdout",
          "text": [
            "\n",
            "      Epoch    GPU_mem   box_loss   cls_loss   dfl_loss  Instances       Size\n"
          ]
        },
        {
          "output_type": "stream",
          "name": "stderr",
          "text": [
            "     59/115      0.84G      1.023      1.161      1.431         23        640: 100%|██████████| 1/1 [00:00<00:00,  8.58it/s]\n",
            "                 Class     Images  Instances      Box(P          R      mAP50  mAP50-95): 100%|██████████| 1/1 [00:00<00:00, 16.67it/s]"
          ]
        },
        {
          "output_type": "stream",
          "name": "stdout",
          "text": [
            "                   all          4         17      0.805      0.484      0.556      0.288\n"
          ]
        },
        {
          "output_type": "stream",
          "name": "stderr",
          "text": [
            "\n"
          ]
        },
        {
          "output_type": "stream",
          "name": "stdout",
          "text": [
            "\n",
            "      Epoch    GPU_mem   box_loss   cls_loss   dfl_loss  Instances       Size\n"
          ]
        },
        {
          "output_type": "stream",
          "name": "stderr",
          "text": [
            "     60/115      0.84G      1.081       1.14      1.338         42        640: 100%|██████████| 1/1 [00:00<00:00,  6.87it/s]\n",
            "                 Class     Images  Instances      Box(P          R      mAP50  mAP50-95): 100%|██████████| 1/1 [00:00<00:00, 17.01it/s]"
          ]
        },
        {
          "output_type": "stream",
          "name": "stdout",
          "text": [
            "                   all          4         17      0.832      0.464      0.525      0.269\n"
          ]
        },
        {
          "output_type": "stream",
          "name": "stderr",
          "text": [
            "\n"
          ]
        },
        {
          "output_type": "stream",
          "name": "stdout",
          "text": [
            "\n",
            "      Epoch    GPU_mem   box_loss   cls_loss   dfl_loss  Instances       Size\n"
          ]
        },
        {
          "output_type": "stream",
          "name": "stderr",
          "text": [
            "     61/115      0.84G     0.7096     0.6696      1.169         26        640: 100%|██████████| 1/1 [00:00<00:00,  9.00it/s]\n",
            "                 Class     Images  Instances      Box(P          R      mAP50  mAP50-95): 100%|██████████| 1/1 [00:00<00:00, 13.71it/s]"
          ]
        },
        {
          "output_type": "stream",
          "name": "stdout",
          "text": [
            "                   all          4         17      0.832      0.464      0.525      0.269\n"
          ]
        },
        {
          "output_type": "stream",
          "name": "stderr",
          "text": [
            "\n"
          ]
        },
        {
          "output_type": "stream",
          "name": "stdout",
          "text": [
            "\n",
            "      Epoch    GPU_mem   box_loss   cls_loss   dfl_loss  Instances       Size\n"
          ]
        },
        {
          "output_type": "stream",
          "name": "stderr",
          "text": [
            "     62/115      0.84G     0.4537      0.933      1.113         18        640: 100%|██████████| 1/1 [00:00<00:00,  8.69it/s]\n",
            "                 Class     Images  Instances      Box(P          R      mAP50  mAP50-95): 100%|██████████| 1/1 [00:00<00:00, 18.01it/s]"
          ]
        },
        {
          "output_type": "stream",
          "name": "stdout",
          "text": [
            "                   all          4         17      0.832      0.464      0.525      0.269\n"
          ]
        },
        {
          "output_type": "stream",
          "name": "stderr",
          "text": [
            "\n"
          ]
        },
        {
          "output_type": "stream",
          "name": "stdout",
          "text": [
            "\n",
            "      Epoch    GPU_mem   box_loss   cls_loss   dfl_loss  Instances       Size\n"
          ]
        },
        {
          "output_type": "stream",
          "name": "stderr",
          "text": [
            "     63/115      0.84G     0.7112      1.172      1.141         25        640: 100%|██████████| 1/1 [00:00<00:00,  7.28it/s]\n",
            "                 Class     Images  Instances      Box(P          R      mAP50  mAP50-95): 100%|██████████| 1/1 [00:00<00:00, 18.15it/s]"
          ]
        },
        {
          "output_type": "stream",
          "name": "stdout",
          "text": [
            "                   all          4         17      0.826      0.463      0.522      0.269\n"
          ]
        },
        {
          "output_type": "stream",
          "name": "stderr",
          "text": [
            "\n"
          ]
        },
        {
          "output_type": "stream",
          "name": "stdout",
          "text": [
            "\n",
            "      Epoch    GPU_mem   box_loss   cls_loss   dfl_loss  Instances       Size\n"
          ]
        },
        {
          "output_type": "stream",
          "name": "stderr",
          "text": [
            "     64/115      0.84G     0.9058     0.8477      1.205         23        640: 100%|██████████| 1/1 [00:00<00:00,  9.23it/s]\n",
            "                 Class     Images  Instances      Box(P          R      mAP50  mAP50-95): 100%|██████████| 1/1 [00:00<00:00, 18.28it/s]"
          ]
        },
        {
          "output_type": "stream",
          "name": "stdout",
          "text": [
            "                   all          4         17      0.826      0.463      0.522      0.269\n"
          ]
        },
        {
          "output_type": "stream",
          "name": "stderr",
          "text": [
            "\n"
          ]
        },
        {
          "output_type": "stream",
          "name": "stdout",
          "text": [
            "\n",
            "      Epoch    GPU_mem   box_loss   cls_loss   dfl_loss  Instances       Size\n"
          ]
        },
        {
          "output_type": "stream",
          "name": "stderr",
          "text": [
            "     65/115      0.84G     0.8933      1.187      1.157         54        640: 100%|██████████| 1/1 [00:00<00:00,  8.47it/s]\n",
            "                 Class     Images  Instances      Box(P          R      mAP50  mAP50-95): 100%|██████████| 1/1 [00:00<00:00, 18.16it/s]\n"
          ]
        },
        {
          "output_type": "stream",
          "name": "stdout",
          "text": [
            "                   all          4         17      0.826      0.463      0.522      0.269\n",
            "\n",
            "      Epoch    GPU_mem   box_loss   cls_loss   dfl_loss  Instances       Size\n"
          ]
        },
        {
          "output_type": "stream",
          "name": "stderr",
          "text": [
            "     66/115      0.84G     0.8721     0.9022      1.406         19        640: 100%|██████████| 1/1 [00:00<00:00,  7.15it/s]\n",
            "                 Class     Images  Instances      Box(P          R      mAP50  mAP50-95): 100%|██████████| 1/1 [00:00<00:00, 18.17it/s]"
          ]
        },
        {
          "output_type": "stream",
          "name": "stdout",
          "text": [
            "                   all          4         17      0.829       0.47      0.507      0.264\n"
          ]
        },
        {
          "output_type": "stream",
          "name": "stderr",
          "text": [
            "\n"
          ]
        },
        {
          "output_type": "stream",
          "name": "stdout",
          "text": [
            "\n",
            "      Epoch    GPU_mem   box_loss   cls_loss   dfl_loss  Instances       Size\n"
          ]
        },
        {
          "output_type": "stream",
          "name": "stderr",
          "text": [
            "     67/115      0.84G     0.7136     0.6812      1.249         13        640: 100%|██████████| 1/1 [00:00<00:00,  8.90it/s]\n",
            "                 Class     Images  Instances      Box(P          R      mAP50  mAP50-95): 100%|██████████| 1/1 [00:00<00:00, 17.22it/s]"
          ]
        },
        {
          "output_type": "stream",
          "name": "stdout",
          "text": [
            "                   all          4         17      0.829       0.47      0.507      0.264\n"
          ]
        },
        {
          "output_type": "stream",
          "name": "stderr",
          "text": [
            "\n"
          ]
        },
        {
          "output_type": "stream",
          "name": "stdout",
          "text": [
            "\n",
            "      Epoch    GPU_mem   box_loss   cls_loss   dfl_loss  Instances       Size\n"
          ]
        },
        {
          "output_type": "stream",
          "name": "stderr",
          "text": [
            "     68/115      0.84G      0.845      1.452       1.21         35        640: 100%|██████████| 1/1 [00:00<00:00,  8.89it/s]\n",
            "                 Class     Images  Instances      Box(P          R      mAP50  mAP50-95): 100%|██████████| 1/1 [00:00<00:00, 17.66it/s]"
          ]
        },
        {
          "output_type": "stream",
          "name": "stdout",
          "text": [
            "                   all          4         17      0.829       0.47      0.507      0.264\n"
          ]
        },
        {
          "output_type": "stream",
          "name": "stderr",
          "text": [
            "\n"
          ]
        },
        {
          "output_type": "stream",
          "name": "stdout",
          "text": [
            "\n",
            "      Epoch    GPU_mem   box_loss   cls_loss   dfl_loss  Instances       Size\n"
          ]
        },
        {
          "output_type": "stream",
          "name": "stderr",
          "text": [
            "     69/115      0.84G     0.7541     0.8667      1.178         24        640: 100%|██████████| 1/1 [00:00<00:00,  7.54it/s]\n",
            "                 Class     Images  Instances      Box(P          R      mAP50  mAP50-95): 100%|██████████| 1/1 [00:00<00:00, 18.63it/s]"
          ]
        },
        {
          "output_type": "stream",
          "name": "stdout",
          "text": [
            "                   all          4         17      0.829      0.474      0.503      0.267\n"
          ]
        },
        {
          "output_type": "stream",
          "name": "stderr",
          "text": [
            "\n"
          ]
        },
        {
          "output_type": "stream",
          "name": "stdout",
          "text": [
            "\n",
            "      Epoch    GPU_mem   box_loss   cls_loss   dfl_loss  Instances       Size\n"
          ]
        },
        {
          "output_type": "stream",
          "name": "stderr",
          "text": [
            "     70/115      0.84G     0.6505      1.022      1.138         32        640: 100%|██████████| 1/1 [00:00<00:00,  6.75it/s]\n",
            "                 Class     Images  Instances      Box(P          R      mAP50  mAP50-95): 100%|██████████| 1/1 [00:00<00:00, 12.87it/s]"
          ]
        },
        {
          "output_type": "stream",
          "name": "stdout",
          "text": [
            "                   all          4         17      0.829      0.474      0.503      0.267\n"
          ]
        },
        {
          "output_type": "stream",
          "name": "stderr",
          "text": [
            "\n"
          ]
        },
        {
          "output_type": "stream",
          "name": "stdout",
          "text": [
            "\n",
            "      Epoch    GPU_mem   box_loss   cls_loss   dfl_loss  Instances       Size\n"
          ]
        },
        {
          "output_type": "stream",
          "name": "stderr",
          "text": [
            "     71/115      0.84G     0.9473     0.7355       1.24         28        640: 100%|██████████| 1/1 [00:00<00:00,  6.78it/s]\n",
            "                 Class     Images  Instances      Box(P          R      mAP50  mAP50-95): 100%|██████████| 1/1 [00:00<00:00,  9.03it/s]"
          ]
        },
        {
          "output_type": "stream",
          "name": "stdout",
          "text": [
            "                   all          4         17      0.829      0.474      0.503      0.267\n"
          ]
        },
        {
          "output_type": "stream",
          "name": "stderr",
          "text": [
            "\n"
          ]
        },
        {
          "output_type": "stream",
          "name": "stdout",
          "text": [
            "\n",
            "      Epoch    GPU_mem   box_loss   cls_loss   dfl_loss  Instances       Size\n"
          ]
        },
        {
          "output_type": "stream",
          "name": "stderr",
          "text": [
            "     72/115      0.84G      0.604      0.869      1.203         17        640: 100%|██████████| 1/1 [00:00<00:00,  4.93it/s]\n",
            "                 Class     Images  Instances      Box(P          R      mAP50  mAP50-95): 100%|██████████| 1/1 [00:00<00:00, 10.54it/s]"
          ]
        },
        {
          "output_type": "stream",
          "name": "stdout",
          "text": [
            "                   all          4         17      0.837      0.468      0.503       0.26\n"
          ]
        },
        {
          "output_type": "stream",
          "name": "stderr",
          "text": [
            "\n"
          ]
        },
        {
          "output_type": "stream",
          "name": "stdout",
          "text": [
            "\n",
            "      Epoch    GPU_mem   box_loss   cls_loss   dfl_loss  Instances       Size\n"
          ]
        },
        {
          "output_type": "stream",
          "name": "stderr",
          "text": [
            "     73/115      0.84G     0.5874     0.6511       1.13         26        640: 100%|██████████| 1/1 [00:00<00:00,  5.26it/s]\n",
            "                 Class     Images  Instances      Box(P          R      mAP50  mAP50-95): 100%|██████████| 1/1 [00:00<00:00, 10.00it/s]"
          ]
        },
        {
          "output_type": "stream",
          "name": "stdout",
          "text": [
            "                   all          4         17      0.837      0.468      0.503       0.26\n"
          ]
        },
        {
          "output_type": "stream",
          "name": "stderr",
          "text": [
            "\n"
          ]
        },
        {
          "output_type": "stream",
          "name": "stdout",
          "text": [
            "\n",
            "      Epoch    GPU_mem   box_loss   cls_loss   dfl_loss  Instances       Size\n"
          ]
        },
        {
          "output_type": "stream",
          "name": "stderr",
          "text": [
            "     74/115      0.84G     0.7947     0.6976      1.121         19        640: 100%|██████████| 1/1 [00:00<00:00,  5.89it/s]\n",
            "                 Class     Images  Instances      Box(P          R      mAP50  mAP50-95): 100%|██████████| 1/1 [00:00<00:00, 11.62it/s]"
          ]
        },
        {
          "output_type": "stream",
          "name": "stdout",
          "text": [
            "                   all          4         17      0.837      0.468      0.503       0.26\n"
          ]
        },
        {
          "output_type": "stream",
          "name": "stderr",
          "text": [
            "\n"
          ]
        },
        {
          "output_type": "stream",
          "name": "stdout",
          "text": [
            "\n",
            "      Epoch    GPU_mem   box_loss   cls_loss   dfl_loss  Instances       Size\n"
          ]
        },
        {
          "output_type": "stream",
          "name": "stderr",
          "text": [
            "     75/115      0.84G      0.681     0.6439      1.073         40        640: 100%|██████████| 1/1 [00:00<00:00,  6.82it/s]\n",
            "                 Class     Images  Instances      Box(P          R      mAP50  mAP50-95): 100%|██████████| 1/1 [00:00<00:00, 13.33it/s]"
          ]
        },
        {
          "output_type": "stream",
          "name": "stdout",
          "text": [
            "                   all          4         17      0.835       0.47      0.501      0.254\n"
          ]
        },
        {
          "output_type": "stream",
          "name": "stderr",
          "text": [
            "\n"
          ]
        },
        {
          "output_type": "stream",
          "name": "stdout",
          "text": [
            "\n",
            "      Epoch    GPU_mem   box_loss   cls_loss   dfl_loss  Instances       Size\n"
          ]
        },
        {
          "output_type": "stream",
          "name": "stderr",
          "text": [
            "     76/115      0.84G     0.7014     0.6606       1.11         29        640: 100%|██████████| 1/1 [00:00<00:00,  8.66it/s]\n",
            "                 Class     Images  Instances      Box(P          R      mAP50  mAP50-95): 100%|██████████| 1/1 [00:00<00:00, 15.59it/s]"
          ]
        },
        {
          "output_type": "stream",
          "name": "stdout",
          "text": [
            "                   all          4         17      0.835       0.47      0.501      0.254\n"
          ]
        },
        {
          "output_type": "stream",
          "name": "stderr",
          "text": [
            "\n"
          ]
        },
        {
          "output_type": "stream",
          "name": "stdout",
          "text": [
            "\n",
            "      Epoch    GPU_mem   box_loss   cls_loss   dfl_loss  Instances       Size\n"
          ]
        },
        {
          "output_type": "stream",
          "name": "stderr",
          "text": [
            "     77/115      0.84G     0.6043     0.5721      1.136         21        640: 100%|██████████| 1/1 [00:00<00:00,  8.89it/s]\n",
            "                 Class     Images  Instances      Box(P          R      mAP50  mAP50-95): 100%|██████████| 1/1 [00:00<00:00, 16.33it/s]\n"
          ]
        },
        {
          "output_type": "stream",
          "name": "stdout",
          "text": [
            "                   all          4         17      0.835       0.47      0.501      0.254\n",
            "\n",
            "      Epoch    GPU_mem   box_loss   cls_loss   dfl_loss  Instances       Size\n"
          ]
        },
        {
          "output_type": "stream",
          "name": "stderr",
          "text": [
            "     78/115      0.84G     0.5306     0.7298      1.016         21        640: 100%|██████████| 1/1 [00:00<00:00,  7.08it/s]\n",
            "                 Class     Images  Instances      Box(P          R      mAP50  mAP50-95): 100%|██████████| 1/1 [00:00<00:00, 17.44it/s]"
          ]
        },
        {
          "output_type": "stream",
          "name": "stdout",
          "text": [
            "                   all          4         17      0.831       0.46        0.5      0.239\n"
          ]
        },
        {
          "output_type": "stream",
          "name": "stderr",
          "text": [
            "\n"
          ]
        },
        {
          "output_type": "stream",
          "name": "stdout",
          "text": [
            "\n",
            "      Epoch    GPU_mem   box_loss   cls_loss   dfl_loss  Instances       Size\n"
          ]
        },
        {
          "output_type": "stream",
          "name": "stderr",
          "text": [
            "     79/115      0.84G     0.7746     0.7775      1.134         22        640: 100%|██████████| 1/1 [00:00<00:00,  9.32it/s]\n",
            "                 Class     Images  Instances      Box(P          R      mAP50  mAP50-95): 100%|██████████| 1/1 [00:00<00:00, 17.49it/s]"
          ]
        },
        {
          "output_type": "stream",
          "name": "stdout",
          "text": [
            "                   all          4         17      0.831       0.46        0.5      0.239\n"
          ]
        },
        {
          "output_type": "stream",
          "name": "stderr",
          "text": [
            "\n"
          ]
        },
        {
          "output_type": "stream",
          "name": "stdout",
          "text": [
            "\n",
            "      Epoch    GPU_mem   box_loss   cls_loss   dfl_loss  Instances       Size\n"
          ]
        },
        {
          "output_type": "stream",
          "name": "stderr",
          "text": [
            "     80/115      0.84G     0.6924      1.202      1.112         37        640: 100%|██████████| 1/1 [00:00<00:00,  8.48it/s]\n",
            "                 Class     Images  Instances      Box(P          R      mAP50  mAP50-95): 100%|██████████| 1/1 [00:00<00:00, 18.48it/s]"
          ]
        },
        {
          "output_type": "stream",
          "name": "stdout",
          "text": [
            "                   all          4         17      0.831       0.46        0.5      0.239\n"
          ]
        },
        {
          "output_type": "stream",
          "name": "stderr",
          "text": [
            "\n"
          ]
        },
        {
          "output_type": "stream",
          "name": "stdout",
          "text": [
            "\n",
            "      Epoch    GPU_mem   box_loss   cls_loss   dfl_loss  Instances       Size\n"
          ]
        },
        {
          "output_type": "stream",
          "name": "stderr",
          "text": [
            "     81/115      0.84G     0.5765     0.6123      1.011         28        640: 100%|██████████| 1/1 [00:00<00:00,  7.06it/s]\n",
            "                 Class     Images  Instances      Box(P          R      mAP50  mAP50-95): 100%|██████████| 1/1 [00:00<00:00, 17.88it/s]"
          ]
        },
        {
          "output_type": "stream",
          "name": "stdout",
          "text": [
            "                   all          4         17      0.832       0.46      0.499      0.257\n"
          ]
        },
        {
          "output_type": "stream",
          "name": "stderr",
          "text": [
            "\n"
          ]
        },
        {
          "output_type": "stream",
          "name": "stdout",
          "text": [
            "\n",
            "      Epoch    GPU_mem   box_loss   cls_loss   dfl_loss  Instances       Size\n"
          ]
        },
        {
          "output_type": "stream",
          "name": "stderr",
          "text": [
            "     82/115      0.84G     0.7109     0.6448      1.183         22        640: 100%|██████████| 1/1 [00:00<00:00,  8.92it/s]\n",
            "                 Class     Images  Instances      Box(P          R      mAP50  mAP50-95): 100%|██████████| 1/1 [00:00<00:00, 17.52it/s]"
          ]
        },
        {
          "output_type": "stream",
          "name": "stdout",
          "text": [
            "                   all          4         17      0.832       0.46      0.499      0.257\n"
          ]
        },
        {
          "output_type": "stream",
          "name": "stderr",
          "text": [
            "\n"
          ]
        },
        {
          "output_type": "stream",
          "name": "stdout",
          "text": [
            "\n",
            "      Epoch    GPU_mem   box_loss   cls_loss   dfl_loss  Instances       Size\n"
          ]
        },
        {
          "output_type": "stream",
          "name": "stderr",
          "text": [
            "     83/115      0.84G     0.6782      0.541      1.211         22        640: 100%|██████████| 1/1 [00:00<00:00,  8.21it/s]\n",
            "                 Class     Images  Instances      Box(P          R      mAP50  mAP50-95): 100%|██████████| 1/1 [00:00<00:00, 16.90it/s]\n"
          ]
        },
        {
          "output_type": "stream",
          "name": "stdout",
          "text": [
            "                   all          4         17      0.832       0.46      0.499      0.257\n",
            "\n",
            "      Epoch    GPU_mem   box_loss   cls_loss   dfl_loss  Instances       Size\n"
          ]
        },
        {
          "output_type": "stream",
          "name": "stderr",
          "text": [
            "     84/115      0.84G     0.6992     0.7969      1.119         35        640: 100%|██████████| 1/1 [00:00<00:00,  6.81it/s]\n",
            "                 Class     Images  Instances      Box(P          R      mAP50  mAP50-95): 100%|██████████| 1/1 [00:00<00:00, 17.77it/s]"
          ]
        },
        {
          "output_type": "stream",
          "name": "stdout",
          "text": [
            "                   all          4         17      0.826      0.451        0.5      0.252\n"
          ]
        },
        {
          "output_type": "stream",
          "name": "stderr",
          "text": [
            "\n"
          ]
        },
        {
          "output_type": "stream",
          "name": "stdout",
          "text": [
            "\n",
            "      Epoch    GPU_mem   box_loss   cls_loss   dfl_loss  Instances       Size\n"
          ]
        },
        {
          "output_type": "stream",
          "name": "stderr",
          "text": [
            "     85/115      0.84G     0.7016     0.6099      1.075         20        640: 100%|██████████| 1/1 [00:00<00:00,  7.73it/s]\n",
            "                 Class     Images  Instances      Box(P          R      mAP50  mAP50-95): 100%|██████████| 1/1 [00:00<00:00, 17.68it/s]"
          ]
        },
        {
          "output_type": "stream",
          "name": "stdout",
          "text": [
            "                   all          4         17      0.826      0.451        0.5      0.252\n"
          ]
        },
        {
          "output_type": "stream",
          "name": "stderr",
          "text": [
            "\n"
          ]
        },
        {
          "output_type": "stream",
          "name": "stdout",
          "text": [
            "\n",
            "      Epoch    GPU_mem   box_loss   cls_loss   dfl_loss  Instances       Size\n"
          ]
        },
        {
          "output_type": "stream",
          "name": "stderr",
          "text": [
            "     86/115      0.84G     0.6868     0.6419      1.184         26        640: 100%|██████████| 1/1 [00:00<00:00,  8.70it/s]\n",
            "                 Class     Images  Instances      Box(P          R      mAP50  mAP50-95): 100%|██████████| 1/1 [00:00<00:00, 17.96it/s]"
          ]
        },
        {
          "output_type": "stream",
          "name": "stdout",
          "text": [
            "                   all          4         17      0.826      0.451        0.5      0.252\n"
          ]
        },
        {
          "output_type": "stream",
          "name": "stderr",
          "text": [
            "\n"
          ]
        },
        {
          "output_type": "stream",
          "name": "stdout",
          "text": [
            "\n",
            "      Epoch    GPU_mem   box_loss   cls_loss   dfl_loss  Instances       Size\n"
          ]
        },
        {
          "output_type": "stream",
          "name": "stderr",
          "text": [
            "     87/115      0.84G     0.7103     0.6166      1.093         29        640: 100%|██████████| 1/1 [00:00<00:00,  7.74it/s]\n",
            "                 Class     Images  Instances      Box(P          R      mAP50  mAP50-95): 100%|██████████| 1/1 [00:00<00:00, 12.39it/s]"
          ]
        },
        {
          "output_type": "stream",
          "name": "stdout",
          "text": [
            "                   all          4         17      0.826      0.451        0.5      0.252\n"
          ]
        },
        {
          "output_type": "stream",
          "name": "stderr",
          "text": [
            "\n"
          ]
        },
        {
          "output_type": "stream",
          "name": "stdout",
          "text": [
            "\n",
            "      Epoch    GPU_mem   box_loss   cls_loss   dfl_loss  Instances       Size\n"
          ]
        },
        {
          "output_type": "stream",
          "name": "stderr",
          "text": [
            "     88/115      0.84G     0.7313      0.728       1.14         34        640: 100%|██████████| 1/1 [00:00<00:00,  6.93it/s]\n",
            "                 Class     Images  Instances      Box(P          R      mAP50  mAP50-95): 100%|██████████| 1/1 [00:00<00:00, 17.01it/s]"
          ]
        },
        {
          "output_type": "stream",
          "name": "stdout",
          "text": [
            "                   all          4         17      0.817      0.444      0.501      0.249\n"
          ]
        },
        {
          "output_type": "stream",
          "name": "stderr",
          "text": [
            "\n"
          ]
        },
        {
          "output_type": "stream",
          "name": "stdout",
          "text": [
            "\n",
            "      Epoch    GPU_mem   box_loss   cls_loss   dfl_loss  Instances       Size\n"
          ]
        },
        {
          "output_type": "stream",
          "name": "stderr",
          "text": [
            "     89/115      0.84G     0.7511     0.6747      1.059         47        640: 100%|██████████| 1/1 [00:00<00:00,  8.20it/s]\n",
            "                 Class     Images  Instances      Box(P          R      mAP50  mAP50-95): 100%|██████████| 1/1 [00:00<00:00, 13.99it/s]"
          ]
        },
        {
          "output_type": "stream",
          "name": "stdout",
          "text": [
            "                   all          4         17      0.817      0.444      0.501      0.249\n"
          ]
        },
        {
          "output_type": "stream",
          "name": "stderr",
          "text": [
            "\n"
          ]
        },
        {
          "output_type": "stream",
          "name": "stdout",
          "text": [
            "\n",
            "      Epoch    GPU_mem   box_loss   cls_loss   dfl_loss  Instances       Size\n"
          ]
        },
        {
          "output_type": "stream",
          "name": "stderr",
          "text": [
            "     90/115      0.84G     0.7671     0.8525       1.24         13        640: 100%|██████████| 1/1 [00:00<00:00,  7.95it/s]\n",
            "                 Class     Images  Instances      Box(P          R      mAP50  mAP50-95): 100%|██████████| 1/1 [00:00<00:00, 16.78it/s]"
          ]
        },
        {
          "output_type": "stream",
          "name": "stdout",
          "text": [
            "                   all          4         17      0.817      0.444      0.501      0.249\n"
          ]
        },
        {
          "output_type": "stream",
          "name": "stderr",
          "text": [
            "\n"
          ]
        },
        {
          "output_type": "stream",
          "name": "stdout",
          "text": [
            "\n",
            "      Epoch    GPU_mem   box_loss   cls_loss   dfl_loss  Instances       Size\n"
          ]
        },
        {
          "output_type": "stream",
          "name": "stderr",
          "text": [
            "     91/115      0.84G     0.8459     0.9527      1.217         34        640: 100%|██████████| 1/1 [00:00<00:00,  8.25it/s]\n",
            "                 Class     Images  Instances      Box(P          R      mAP50  mAP50-95): 100%|██████████| 1/1 [00:00<00:00, 12.84it/s]"
          ]
        },
        {
          "output_type": "stream",
          "name": "stdout",
          "text": [
            "                   all          4         17      0.817      0.444      0.501      0.249\n"
          ]
        },
        {
          "output_type": "stream",
          "name": "stderr",
          "text": [
            "\n"
          ]
        },
        {
          "output_type": "stream",
          "name": "stdout",
          "text": [
            "\n",
            "      Epoch    GPU_mem   box_loss   cls_loss   dfl_loss  Instances       Size\n"
          ]
        },
        {
          "output_type": "stream",
          "name": "stderr",
          "text": [
            "     92/115      0.84G     0.7437      1.314      1.178         44        640: 100%|██████████| 1/1 [00:00<00:00,  7.11it/s]\n",
            "                 Class     Images  Instances      Box(P          R      mAP50  mAP50-95): 100%|██████████| 1/1 [00:00<00:00, 16.88it/s]"
          ]
        },
        {
          "output_type": "stream",
          "name": "stdout",
          "text": [
            "                   all          4         17      0.825      0.446      0.502      0.231\n"
          ]
        },
        {
          "output_type": "stream",
          "name": "stderr",
          "text": [
            "\n"
          ]
        },
        {
          "output_type": "stream",
          "name": "stdout",
          "text": [
            "\n",
            "      Epoch    GPU_mem   box_loss   cls_loss   dfl_loss  Instances       Size\n"
          ]
        },
        {
          "output_type": "stream",
          "name": "stderr",
          "text": [
            "     93/115      0.84G     0.6139     0.8612      1.114         36        640: 100%|██████████| 1/1 [00:00<00:00,  8.65it/s]\n",
            "                 Class     Images  Instances      Box(P          R      mAP50  mAP50-95): 100%|██████████| 1/1 [00:00<00:00, 14.09it/s]"
          ]
        },
        {
          "output_type": "stream",
          "name": "stdout",
          "text": [
            "                   all          4         17      0.825      0.446      0.502      0.231\n"
          ]
        },
        {
          "output_type": "stream",
          "name": "stderr",
          "text": [
            "\n"
          ]
        },
        {
          "output_type": "stream",
          "name": "stdout",
          "text": [
            "\n",
            "      Epoch    GPU_mem   box_loss   cls_loss   dfl_loss  Instances       Size\n"
          ]
        },
        {
          "output_type": "stream",
          "name": "stderr",
          "text": [
            "     94/115      0.84G      0.677      1.091      1.253         10        640: 100%|██████████| 1/1 [00:00<00:00,  6.20it/s]\n",
            "                 Class     Images  Instances      Box(P          R      mAP50  mAP50-95): 100%|██████████| 1/1 [00:00<00:00, 15.27it/s]"
          ]
        },
        {
          "output_type": "stream",
          "name": "stdout",
          "text": [
            "                   all          4         17      0.825      0.446      0.502      0.231\n"
          ]
        },
        {
          "output_type": "stream",
          "name": "stderr",
          "text": [
            "\n"
          ]
        },
        {
          "output_type": "stream",
          "name": "stdout",
          "text": [
            "\n",
            "      Epoch    GPU_mem   box_loss   cls_loss   dfl_loss  Instances       Size\n"
          ]
        },
        {
          "output_type": "stream",
          "name": "stderr",
          "text": [
            "     95/115      0.84G     0.4762     0.6627       1.11         23        640: 100%|██████████| 1/1 [00:00<00:00,  5.00it/s]\n",
            "                 Class     Images  Instances      Box(P          R      mAP50  mAP50-95): 100%|██████████| 1/1 [00:00<00:00, 12.17it/s]"
          ]
        },
        {
          "output_type": "stream",
          "name": "stdout",
          "text": [
            "                   all          4         17      0.825      0.446      0.502      0.231\n"
          ]
        },
        {
          "output_type": "stream",
          "name": "stderr",
          "text": [
            "\n"
          ]
        },
        {
          "output_type": "stream",
          "name": "stdout",
          "text": [
            "\n",
            "      Epoch    GPU_mem   box_loss   cls_loss   dfl_loss  Instances       Size\n"
          ]
        },
        {
          "output_type": "stream",
          "name": "stderr",
          "text": [
            "     96/115      0.84G     0.6363      1.104      1.109         43        640: 100%|██████████| 1/1 [00:00<00:00,  4.60it/s]\n",
            "                 Class     Images  Instances      Box(P          R      mAP50  mAP50-95): 100%|██████████| 1/1 [00:00<00:00,  9.63it/s]"
          ]
        },
        {
          "output_type": "stream",
          "name": "stdout",
          "text": [
            "                   all          4         17      0.824      0.444      0.503      0.233\n"
          ]
        },
        {
          "output_type": "stream",
          "name": "stderr",
          "text": [
            "\n"
          ]
        },
        {
          "output_type": "stream",
          "name": "stdout",
          "text": [
            "\n",
            "      Epoch    GPU_mem   box_loss   cls_loss   dfl_loss  Instances       Size\n"
          ]
        },
        {
          "output_type": "stream",
          "name": "stderr",
          "text": [
            "     97/115      0.84G     0.6127     0.5862      1.066         24        640: 100%|██████████| 1/1 [00:00<00:00,  5.70it/s]\n",
            "                 Class     Images  Instances      Box(P          R      mAP50  mAP50-95): 100%|██████████| 1/1 [00:00<00:00,  9.81it/s]"
          ]
        },
        {
          "output_type": "stream",
          "name": "stdout",
          "text": [
            "                   all          4         17      0.824      0.444      0.503      0.233\n"
          ]
        },
        {
          "output_type": "stream",
          "name": "stderr",
          "text": [
            "\n"
          ]
        },
        {
          "output_type": "stream",
          "name": "stdout",
          "text": [
            "\n",
            "      Epoch    GPU_mem   box_loss   cls_loss   dfl_loss  Instances       Size\n"
          ]
        },
        {
          "output_type": "stream",
          "name": "stderr",
          "text": [
            "     98/115      0.84G     0.5116     0.5278      1.093         18        640: 100%|██████████| 1/1 [00:00<00:00,  8.00it/s]\n",
            "                 Class     Images  Instances      Box(P          R      mAP50  mAP50-95): 100%|██████████| 1/1 [00:00<00:00, 17.26it/s]"
          ]
        },
        {
          "output_type": "stream",
          "name": "stdout",
          "text": [
            "                   all          4         17      0.824      0.444      0.503      0.233\n"
          ]
        },
        {
          "output_type": "stream",
          "name": "stderr",
          "text": [
            "\n"
          ]
        },
        {
          "output_type": "stream",
          "name": "stdout",
          "text": [
            "\n",
            "      Epoch    GPU_mem   box_loss   cls_loss   dfl_loss  Instances       Size\n"
          ]
        },
        {
          "output_type": "stream",
          "name": "stderr",
          "text": [
            "     99/115      0.84G     0.7883      1.188      1.127         51        640: 100%|██████████| 1/1 [00:00<00:00,  7.26it/s]\n",
            "                 Class     Images  Instances      Box(P          R      mAP50  mAP50-95): 100%|██████████| 1/1 [00:00<00:00, 17.09it/s]"
          ]
        },
        {
          "output_type": "stream",
          "name": "stdout",
          "text": [
            "                   all          4         17      0.824      0.444      0.503      0.233\n"
          ]
        },
        {
          "output_type": "stream",
          "name": "stderr",
          "text": [
            "\n"
          ]
        },
        {
          "output_type": "stream",
          "name": "stdout",
          "text": [
            "\n",
            "      Epoch    GPU_mem   box_loss   cls_loss   dfl_loss  Instances       Size\n"
          ]
        },
        {
          "output_type": "stream",
          "name": "stderr",
          "text": [
            "    100/115      0.84G     0.5848     0.6404     0.9444         21        640: 100%|██████████| 1/1 [00:00<00:00,  6.71it/s]\n",
            "                 Class     Images  Instances      Box(P          R      mAP50  mAP50-95): 100%|██████████| 1/1 [00:00<00:00, 17.49it/s]"
          ]
        },
        {
          "output_type": "stream",
          "name": "stdout",
          "text": [
            "                   all          4         17      0.824      0.445      0.502      0.231\n"
          ]
        },
        {
          "output_type": "stream",
          "name": "stderr",
          "text": [
            "\n"
          ]
        },
        {
          "output_type": "stream",
          "name": "stdout",
          "text": [
            "\n",
            "      Epoch    GPU_mem   box_loss   cls_loss   dfl_loss  Instances       Size\n"
          ]
        },
        {
          "output_type": "stream",
          "name": "stderr",
          "text": [
            "    101/115      0.84G     0.5025     0.3592     0.9894         12        640: 100%|██████████| 1/1 [00:00<00:00,  8.11it/s]\n",
            "                 Class     Images  Instances      Box(P          R      mAP50  mAP50-95): 100%|██████████| 1/1 [00:00<00:00, 16.57it/s]"
          ]
        },
        {
          "output_type": "stream",
          "name": "stdout",
          "text": [
            "                   all          4         17      0.824      0.445      0.502      0.231\n"
          ]
        },
        {
          "output_type": "stream",
          "name": "stderr",
          "text": [
            "\n"
          ]
        },
        {
          "output_type": "stream",
          "name": "stdout",
          "text": [
            "\n",
            "      Epoch    GPU_mem   box_loss   cls_loss   dfl_loss  Instances       Size\n"
          ]
        },
        {
          "output_type": "stream",
          "name": "stderr",
          "text": [
            "    102/115      0.84G     0.7347     0.6835      1.051         43        640: 100%|██████████| 1/1 [00:00<00:00,  8.54it/s]\n",
            "                 Class     Images  Instances      Box(P          R      mAP50  mAP50-95): 100%|██████████| 1/1 [00:00<00:00, 17.68it/s]"
          ]
        },
        {
          "output_type": "stream",
          "name": "stdout",
          "text": [
            "                   all          4         17      0.824      0.445      0.502      0.231\n"
          ]
        },
        {
          "output_type": "stream",
          "name": "stderr",
          "text": [
            "\n"
          ]
        },
        {
          "output_type": "stream",
          "name": "stdout",
          "text": [
            "\n",
            "      Epoch    GPU_mem   box_loss   cls_loss   dfl_loss  Instances       Size\n"
          ]
        },
        {
          "output_type": "stream",
          "name": "stderr",
          "text": [
            "    103/115      0.84G     0.6542      0.676      1.097         12        640: 100%|██████████| 1/1 [00:00<00:00,  8.36it/s]\n",
            "                 Class     Images  Instances      Box(P          R      mAP50  mAP50-95): 100%|██████████| 1/1 [00:00<00:00, 14.89it/s]"
          ]
        },
        {
          "output_type": "stream",
          "name": "stdout",
          "text": [
            "                   all          4         17      0.824      0.445      0.502      0.231\n"
          ]
        },
        {
          "output_type": "stream",
          "name": "stderr",
          "text": [
            "\n"
          ]
        },
        {
          "output_type": "stream",
          "name": "stdout",
          "text": [
            "\n",
            "      Epoch    GPU_mem   box_loss   cls_loss   dfl_loss  Instances       Size\n"
          ]
        },
        {
          "output_type": "stream",
          "name": "stderr",
          "text": [
            "    104/115      0.84G     0.5583     0.5284      1.151         21        640: 100%|██████████| 1/1 [00:00<00:00,  6.89it/s]\n",
            "                 Class     Images  Instances      Box(P          R      mAP50  mAP50-95): 100%|██████████| 1/1 [00:00<00:00, 17.67it/s]"
          ]
        },
        {
          "output_type": "stream",
          "name": "stdout",
          "text": [
            "                   all          4         17      0.831      0.445      0.504      0.234\n"
          ]
        },
        {
          "output_type": "stream",
          "name": "stderr",
          "text": [
            "\n"
          ]
        },
        {
          "output_type": "stream",
          "name": "stdout",
          "text": [
            "\n",
            "      Epoch    GPU_mem   box_loss   cls_loss   dfl_loss  Instances       Size\n"
          ]
        },
        {
          "output_type": "stream",
          "name": "stderr",
          "text": [
            "    105/115      0.84G     0.7351     0.8643      1.119         38        640: 100%|██████████| 1/1 [00:00<00:00,  8.77it/s]\n",
            "                 Class     Images  Instances      Box(P          R      mAP50  mAP50-95): 100%|██████████| 1/1 [00:00<00:00, 13.93it/s]"
          ]
        },
        {
          "output_type": "stream",
          "name": "stdout",
          "text": [
            "                   all          4         17      0.831      0.445      0.504      0.234\n"
          ]
        },
        {
          "output_type": "stream",
          "name": "stderr",
          "text": [
            "\n"
          ]
        },
        {
          "output_type": "stream",
          "name": "stdout",
          "text": [
            "Closing dataloader mosaic\n",
            "\u001b[34m\u001b[1malbumentations: \u001b[0mBlur(p=0.01, blur_limit=(3, 7)), MedianBlur(p=0.01, blur_limit=(3, 7)), ToGray(p=0.01, method='weighted_average', num_output_channels=3), CLAHE(p=0.01, clip_limit=(1.0, 4.0), tile_grid_size=(8, 8))\n",
            "\n",
            "      Epoch    GPU_mem   box_loss   cls_loss   dfl_loss  Instances       Size\n"
          ]
        },
        {
          "output_type": "stream",
          "name": "stderr",
          "text": [
            "    106/115      0.84G     0.5193     0.4938     0.9802         13        640: 100%|██████████| 1/1 [00:00<00:00,  3.66it/s]\n",
            "                 Class     Images  Instances      Box(P          R      mAP50  mAP50-95): 100%|██████████| 1/1 [00:00<00:00, 12.06it/s]"
          ]
        },
        {
          "output_type": "stream",
          "name": "stdout",
          "text": [
            "                   all          4         17      0.831      0.445      0.504      0.234\n"
          ]
        },
        {
          "output_type": "stream",
          "name": "stderr",
          "text": [
            "\n"
          ]
        },
        {
          "output_type": "stream",
          "name": "stdout",
          "text": [
            "\n",
            "      Epoch    GPU_mem   box_loss   cls_loss   dfl_loss  Instances       Size\n"
          ]
        },
        {
          "output_type": "stream",
          "name": "stderr",
          "text": [
            "    107/115      0.84G      0.425      0.425      0.867         13        640: 100%|██████████| 1/1 [00:00<00:00,  8.46it/s]\n",
            "                 Class     Images  Instances      Box(P          R      mAP50  mAP50-95): 100%|██████████| 1/1 [00:00<00:00, 12.42it/s]"
          ]
        },
        {
          "output_type": "stream",
          "name": "stdout",
          "text": [
            "                   all          4         17      0.831      0.445      0.504      0.234\n"
          ]
        },
        {
          "output_type": "stream",
          "name": "stderr",
          "text": [
            "\n"
          ]
        },
        {
          "output_type": "stream",
          "name": "stdout",
          "text": [
            "\n",
            "      Epoch    GPU_mem   box_loss   cls_loss   dfl_loss  Instances       Size\n"
          ]
        },
        {
          "output_type": "stream",
          "name": "stderr",
          "text": [
            "    108/115      0.84G      0.545     0.4866     0.9926         13        640: 100%|██████████| 1/1 [00:00<00:00,  6.64it/s]\n",
            "                 Class     Images  Instances      Box(P          R      mAP50  mAP50-95): 100%|██████████| 1/1 [00:00<00:00,  9.87it/s]"
          ]
        },
        {
          "output_type": "stream",
          "name": "stdout",
          "text": [
            "                   all          4         17      0.823      0.452      0.504      0.253\n"
          ]
        },
        {
          "output_type": "stream",
          "name": "stderr",
          "text": [
            "\n"
          ]
        },
        {
          "output_type": "stream",
          "name": "stdout",
          "text": [
            "\n",
            "      Epoch    GPU_mem   box_loss   cls_loss   dfl_loss  Instances       Size\n"
          ]
        },
        {
          "output_type": "stream",
          "name": "stderr",
          "text": [
            "    109/115      0.84G     0.5312     0.4868      1.079         13        640: 100%|██████████| 1/1 [00:00<00:00,  8.84it/s]\n",
            "                 Class     Images  Instances      Box(P          R      mAP50  mAP50-95): 100%|██████████| 1/1 [00:00<00:00, 17.98it/s]"
          ]
        },
        {
          "output_type": "stream",
          "name": "stdout",
          "text": [
            "                   all          4         17      0.823      0.452      0.504      0.253\n"
          ]
        },
        {
          "output_type": "stream",
          "name": "stderr",
          "text": [
            "\n"
          ]
        },
        {
          "output_type": "stream",
          "name": "stdout",
          "text": [
            "\n",
            "      Epoch    GPU_mem   box_loss   cls_loss   dfl_loss  Instances       Size\n"
          ]
        },
        {
          "output_type": "stream",
          "name": "stderr",
          "text": [
            "    110/115      0.84G     0.4845     0.4792     0.9818         13        640: 100%|██████████| 1/1 [00:00<00:00,  9.20it/s]\n",
            "                 Class     Images  Instances      Box(P          R      mAP50  mAP50-95): 100%|██████████| 1/1 [00:00<00:00, 16.92it/s]"
          ]
        },
        {
          "output_type": "stream",
          "name": "stdout",
          "text": [
            "                   all          4         17      0.823      0.452      0.504      0.253\n"
          ]
        },
        {
          "output_type": "stream",
          "name": "stderr",
          "text": [
            "\n"
          ]
        },
        {
          "output_type": "stream",
          "name": "stdout",
          "text": [
            "\n",
            "      Epoch    GPU_mem   box_loss   cls_loss   dfl_loss  Instances       Size\n"
          ]
        },
        {
          "output_type": "stream",
          "name": "stderr",
          "text": [
            "    111/115      0.84G     0.5037     0.3896      0.868         13        640: 100%|██████████| 1/1 [00:00<00:00,  8.25it/s]\n",
            "                 Class     Images  Instances      Box(P          R      mAP50  mAP50-95): 100%|██████████| 1/1 [00:00<00:00, 15.70it/s]"
          ]
        },
        {
          "output_type": "stream",
          "name": "stdout",
          "text": [
            "                   all          4         17      0.823      0.452      0.504      0.253\n"
          ]
        },
        {
          "output_type": "stream",
          "name": "stderr",
          "text": [
            "\n"
          ]
        },
        {
          "output_type": "stream",
          "name": "stdout",
          "text": [
            "\n",
            "      Epoch    GPU_mem   box_loss   cls_loss   dfl_loss  Instances       Size\n"
          ]
        },
        {
          "output_type": "stream",
          "name": "stderr",
          "text": [
            "    112/115      0.84G     0.5561     0.5605     0.9089         13        640: 100%|██████████| 1/1 [00:00<00:00,  7.08it/s]\n",
            "                 Class     Images  Instances      Box(P          R      mAP50  mAP50-95): 100%|██████████| 1/1 [00:00<00:00, 17.91it/s]"
          ]
        },
        {
          "output_type": "stream",
          "name": "stdout",
          "text": [
            "                   all          4         17      0.818       0.46       0.51      0.259\n"
          ]
        },
        {
          "output_type": "stream",
          "name": "stderr",
          "text": [
            "\n"
          ]
        },
        {
          "output_type": "stream",
          "name": "stdout",
          "text": [
            "\n",
            "      Epoch    GPU_mem   box_loss   cls_loss   dfl_loss  Instances       Size\n"
          ]
        },
        {
          "output_type": "stream",
          "name": "stderr",
          "text": [
            "    113/115      0.84G     0.5437     0.4678      1.111         13        640: 100%|██████████| 1/1 [00:00<00:00,  8.54it/s]\n",
            "                 Class     Images  Instances      Box(P          R      mAP50  mAP50-95): 100%|██████████| 1/1 [00:00<00:00, 17.51it/s]\n"
          ]
        },
        {
          "output_type": "stream",
          "name": "stdout",
          "text": [
            "                   all          4         17      0.818       0.46       0.51      0.259\n",
            "\n",
            "      Epoch    GPU_mem   box_loss   cls_loss   dfl_loss  Instances       Size\n"
          ]
        },
        {
          "output_type": "stream",
          "name": "stderr",
          "text": [
            "    114/115      0.84G     0.5099     0.4816     0.8549         13        640: 100%|██████████| 1/1 [00:00<00:00,  9.09it/s]\n",
            "                 Class     Images  Instances      Box(P          R      mAP50  mAP50-95): 100%|██████████| 1/1 [00:00<00:00, 17.01it/s]"
          ]
        },
        {
          "output_type": "stream",
          "name": "stdout",
          "text": [
            "                   all          4         17      0.818       0.46       0.51      0.259\n"
          ]
        },
        {
          "output_type": "stream",
          "name": "stderr",
          "text": [
            "\n"
          ]
        },
        {
          "output_type": "stream",
          "name": "stdout",
          "text": [
            "\n",
            "      Epoch    GPU_mem   box_loss   cls_loss   dfl_loss  Instances       Size\n"
          ]
        },
        {
          "output_type": "stream",
          "name": "stderr",
          "text": [
            "    115/115      0.84G     0.5165     0.4217     0.8745         13        640: 100%|██████████| 1/1 [00:00<00:00,  8.44it/s]\n",
            "                 Class     Images  Instances      Box(P          R      mAP50  mAP50-95): 100%|██████████| 1/1 [00:00<00:00, 15.90it/s]"
          ]
        },
        {
          "output_type": "stream",
          "name": "stdout",
          "text": [
            "                   all          4         17      0.818       0.46       0.51      0.259\n",
            "\u001b[34m\u001b[1mEarlyStopping: \u001b[0mTraining stopped early as no improvement observed in last 100 epochs. Best results observed at epoch 15, best model saved as best.pt.\n",
            "To update EarlyStopping(patience=100) pass a new patience value, i.e. `patience=300` or use `patience=0` to disable EarlyStopping.\n"
          ]
        },
        {
          "output_type": "stream",
          "name": "stderr",
          "text": [
            "\n"
          ]
        },
        {
          "output_type": "stream",
          "name": "stdout",
          "text": [
            "\n",
            "115 epochs completed in 0.019 hours.\n",
            "Optimizer stripped from runs/detect/train3/weights/last.pt, 5.6MB\n",
            "Optimizer stripped from runs/detect/train3/weights/best.pt, 5.6MB\n",
            "\n",
            "Validating runs/detect/train3/weights/best.pt...\n",
            "Ultralytics 8.3.152 🚀 Python-3.11.13 torch-2.6.0+cu124 CUDA:0 (Tesla T4, 15095MiB)\n",
            "YOLO11n summary (fused): 100 layers, 2,616,248 parameters, 0 gradients, 6.5 GFLOPs\n"
          ]
        },
        {
          "output_type": "stream",
          "name": "stderr",
          "text": [
            "                 Class     Images  Instances      Box(P          R      mAP50  mAP50-95): 100%|██████████| 1/1 [00:00<00:00, 11.52it/s]\n"
          ]
        },
        {
          "output_type": "stream",
          "name": "stdout",
          "text": [
            "                   all          4         17      0.645       0.95      0.913       0.65\n",
            "                person          3         10      0.664        0.7      0.667       0.34\n",
            "                   dog          1          1      0.538          1      0.995      0.796\n",
            "                 horse          1          2      0.675          1      0.995       0.65\n",
            "              elephant          1          2      0.549          1      0.828      0.322\n",
            "              umbrella          1          1      0.559          1      0.995      0.895\n",
            "          potted plant          1          1      0.883          1      0.995      0.895\n",
            "Speed: 0.3ms preprocess, 8.9ms inference, 0.0ms loss, 4.4ms postprocess per image\n",
            "Results saved to \u001b[1mruns/detect/train3\u001b[0m\n"
          ]
        }
      ]
    },
    {
      "cell_type": "code",
      "source": [
        "metrics = model.val()\n",
        "metrics.box.map\n",
        "metrics.box.map50\n",
        "metrics.box.map75\n",
        "metrics.box.maps"
      ],
      "metadata": {
        "colab": {
          "base_uri": "https://localhost:8080/"
        },
        "collapsed": true,
        "id": "jC-DpeEriJ1_",
        "outputId": "4b061c6c-66bb-4eb0-a2ef-e11be9a0ee69"
      },
      "execution_count": 8,
      "outputs": [
        {
          "output_type": "stream",
          "name": "stdout",
          "text": [
            "Ultralytics 8.3.152 🚀 Python-3.11.13 torch-2.6.0+cu124 CUDA:0 (Tesla T4, 15095MiB)\n",
            "YOLO11n summary (fused): 100 layers, 2,616,248 parameters, 0 gradients, 6.5 GFLOPs\n",
            "\u001b[34m\u001b[1mval: \u001b[0mFast image access ✅ (ping: 0.0±0.0 ms, read: 1693.4±658.1 MB/s, size: 54.0 KB)\n"
          ]
        },
        {
          "output_type": "stream",
          "name": "stderr",
          "text": [
            "\u001b[34m\u001b[1mval: \u001b[0mScanning /content/datasets/coco8/labels/val.cache... 4 images, 0 backgrounds, 0 corrupt: 100%|██████████| 4/4 [00:00<?, ?it/s]\n",
            "                 Class     Images  Instances      Box(P          R      mAP50  mAP50-95): 100%|██████████| 1/1 [00:00<00:00,  7.57it/s]\n"
          ]
        },
        {
          "output_type": "stream",
          "name": "stdout",
          "text": [
            "                   all          4         17      0.642       0.95      0.912       0.65\n",
            "                person          3         10      0.651        0.7      0.666      0.339\n",
            "                   dog          1          1      0.538          1      0.995      0.796\n",
            "                 horse          1          2      0.673          1      0.995       0.65\n",
            "              elephant          1          2      0.548          1      0.828      0.322\n",
            "              umbrella          1          1      0.558          1      0.995      0.895\n",
            "          potted plant          1          1      0.884          1      0.995      0.895\n",
            "Speed: 1.8ms preprocess, 19.4ms inference, 0.0ms loss, 1.3ms postprocess per image\n",
            "Results saved to \u001b[1mruns/detect/train32\u001b[0m\n"
          ]
        },
        {
          "output_type": "execute_result",
          "data": {
            "text/plain": [
              "array([    0.33927,     0.64973,     0.64973,     0.64973,     0.64973,     0.64973,     0.64973,     0.64973,     0.64973,     0.64973,     0.64973,     0.64973,     0.64973,     0.64973,     0.64973,     0.64973,       0.796,     0.64969,     0.64973,     0.64973,     0.32243,     0.64973,     0.64973,     0.64973,\n",
              "           0.64973,      0.8955,     0.64973,     0.64973,     0.64973,     0.64973,     0.64973,     0.64973,     0.64973,     0.64973,     0.64973,     0.64973,     0.64973,     0.64973,     0.64973,     0.64973,     0.64973,     0.64973,     0.64973,     0.64973,     0.64973,     0.64973,     0.64973,     0.64973,\n",
              "           0.64973,     0.64973,     0.64973,     0.64973,     0.64973,     0.64973,     0.64973,     0.64973,     0.64973,     0.64973,      0.8955,     0.64973,     0.64973,     0.64973,     0.64973,     0.64973,     0.64973,     0.64973,     0.64973,     0.64973,     0.64973,     0.64973,     0.64973,     0.64973,\n",
              "           0.64973,     0.64973,     0.64973,     0.64973,     0.64973,     0.64973,     0.64973,     0.64973])"
            ]
          },
          "metadata": {},
          "execution_count": 8
        }
      ]
    },
    {
      "cell_type": "code",
      "source": [
        "model = YOLO(\"yolo11n.pt\")\n",
        "model = YOLO(\"/content/runs/detect/train/weights/best.pt\")\n",
        "\n",
        "results = model.track(source=\"/content/vacas.mp4\", show=False, save=True, name='test_result', persist=True, classes=19)  # Tracking with default tracker\n",
        "\n",
        "for result in results:\n",
        "    xywh = result.boxes.xywh  # center-x, center-y, width, height\n",
        "    xywhn = result.boxes.xywhn  # normalized\n",
        "    xyxy = result.boxes.xyxy  # top-left-x, top-left-y, bottom-right-x, bottom-right-y\n",
        "    xyxyn = result.boxes.xyxyn  # normalized\n",
        "    names = [result.names[cls.item()] for cls in result.boxes.cls.int()]  # class name of each box\n",
        "    confs = result.boxes.conf  # confidence score of each box\n"
      ],
      "metadata": {
        "colab": {
          "base_uri": "https://localhost:8080/"
        },
        "collapsed": true,
        "id": "D173QMwVoy6j",
        "outputId": "6366aeeb-077a-4f35-d985-10c7675d37bd"
      },
      "execution_count": 11,
      "outputs": [
        {
          "output_type": "stream",
          "name": "stdout",
          "text": [
            "\n",
            "WARNING ⚠️ \n",
            "inference results will accumulate in RAM unless `stream=True` is passed, causing potential out-of-memory\n",
            "errors for large sources or long-running streams and videos. See https://docs.ultralytics.com/modes/predict/ for help.\n",
            "\n",
            "Example:\n",
            "    results = model(source=..., stream=True)  # generator of Results objects\n",
            "    for r in results:\n",
            "        boxes = r.boxes  # Boxes object for bbox outputs\n",
            "        masks = r.masks  # Masks object for segment masks outputs\n",
            "        probs = r.probs  # Class probabilities for classification outputs\n",
            "\n",
            "video 1/1 (frame 1/406) /content/vacas.mp4: 384x640 5 cows, 30.4ms\n",
            "video 1/1 (frame 2/406) /content/vacas.mp4: 384x640 5 cows, 12.6ms\n",
            "video 1/1 (frame 3/406) /content/vacas.mp4: 384x640 5 cows, 13.5ms\n",
            "video 1/1 (frame 4/406) /content/vacas.mp4: 384x640 5 cows, 16.1ms\n",
            "video 1/1 (frame 5/406) /content/vacas.mp4: 384x640 5 cows, 14.9ms\n",
            "video 1/1 (frame 6/406) /content/vacas.mp4: 384x640 5 cows, 19.1ms\n",
            "video 1/1 (frame 7/406) /content/vacas.mp4: 384x640 5 cows, 12.8ms\n",
            "video 1/1 (frame 8/406) /content/vacas.mp4: 384x640 5 cows, 11.9ms\n",
            "video 1/1 (frame 9/406) /content/vacas.mp4: 384x640 5 cows, 22.9ms\n",
            "video 1/1 (frame 10/406) /content/vacas.mp4: 384x640 5 cows, 13.1ms\n",
            "video 1/1 (frame 11/406) /content/vacas.mp4: 384x640 5 cows, 13.4ms\n",
            "video 1/1 (frame 12/406) /content/vacas.mp4: 384x640 5 cows, 14.3ms\n",
            "video 1/1 (frame 13/406) /content/vacas.mp4: 384x640 5 cows, 26.3ms\n",
            "video 1/1 (frame 14/406) /content/vacas.mp4: 384x640 5 cows, 17.1ms\n",
            "video 1/1 (frame 15/406) /content/vacas.mp4: 384x640 5 cows, 18.4ms\n",
            "video 1/1 (frame 16/406) /content/vacas.mp4: 384x640 5 cows, 17.8ms\n",
            "video 1/1 (frame 17/406) /content/vacas.mp4: 384x640 5 cows, 19.3ms\n",
            "video 1/1 (frame 18/406) /content/vacas.mp4: 384x640 6 cows, 9.3ms\n",
            "video 1/1 (frame 19/406) /content/vacas.mp4: 384x640 6 cows, 9.1ms\n",
            "video 1/1 (frame 20/406) /content/vacas.mp4: 384x640 6 cows, 13.5ms\n",
            "video 1/1 (frame 21/406) /content/vacas.mp4: 384x640 6 cows, 10.7ms\n",
            "video 1/1 (frame 22/406) /content/vacas.mp4: 384x640 6 cows, 11.8ms\n",
            "video 1/1 (frame 23/406) /content/vacas.mp4: 384x640 6 cows, 9.5ms\n",
            "video 1/1 (frame 24/406) /content/vacas.mp4: 384x640 6 cows, 10.5ms\n",
            "video 1/1 (frame 25/406) /content/vacas.mp4: 384x640 6 cows, 10.4ms\n",
            "video 1/1 (frame 26/406) /content/vacas.mp4: 384x640 6 cows, 11.5ms\n",
            "video 1/1 (frame 27/406) /content/vacas.mp4: 384x640 6 cows, 9.9ms\n",
            "video 1/1 (frame 28/406) /content/vacas.mp4: 384x640 7 cows, 13.5ms\n",
            "video 1/1 (frame 29/406) /content/vacas.mp4: 384x640 7 cows, 13.7ms\n",
            "video 1/1 (frame 30/406) /content/vacas.mp4: 384x640 7 cows, 9.6ms\n",
            "video 1/1 (frame 31/406) /content/vacas.mp4: 384x640 7 cows, 10.5ms\n",
            "video 1/1 (frame 32/406) /content/vacas.mp4: 384x640 7 cows, 11.0ms\n",
            "video 1/1 (frame 33/406) /content/vacas.mp4: 384x640 7 cows, 11.0ms\n",
            "video 1/1 (frame 34/406) /content/vacas.mp4: 384x640 7 cows, 9.0ms\n",
            "video 1/1 (frame 35/406) /content/vacas.mp4: 384x640 7 cows, 10.5ms\n",
            "video 1/1 (frame 36/406) /content/vacas.mp4: 384x640 7 cows, 9.5ms\n",
            "video 1/1 (frame 37/406) /content/vacas.mp4: 384x640 7 cows, 9.2ms\n",
            "video 1/1 (frame 38/406) /content/vacas.mp4: 384x640 7 cows, 11.4ms\n",
            "video 1/1 (frame 39/406) /content/vacas.mp4: 384x640 7 cows, 10.1ms\n",
            "video 1/1 (frame 40/406) /content/vacas.mp4: 384x640 7 cows, 10.2ms\n",
            "video 1/1 (frame 41/406) /content/vacas.mp4: 384x640 7 cows, 13.4ms\n",
            "video 1/1 (frame 42/406) /content/vacas.mp4: 384x640 7 cows, 20.4ms\n",
            "video 1/1 (frame 43/406) /content/vacas.mp4: 384x640 7 cows, 11.1ms\n",
            "video 1/1 (frame 44/406) /content/vacas.mp4: 384x640 6 cows, 10.7ms\n",
            "video 1/1 (frame 45/406) /content/vacas.mp4: 384x640 6 cows, 11.6ms\n",
            "video 1/1 (frame 46/406) /content/vacas.mp4: 384x640 6 cows, 12.5ms\n",
            "video 1/1 (frame 47/406) /content/vacas.mp4: 384x640 6 cows, 10.7ms\n",
            "video 1/1 (frame 48/406) /content/vacas.mp4: 384x640 7 cows, 11.7ms\n",
            "video 1/1 (frame 49/406) /content/vacas.mp4: 384x640 7 cows, 12.1ms\n",
            "video 1/1 (frame 50/406) /content/vacas.mp4: 384x640 7 cows, 10.8ms\n",
            "video 1/1 (frame 51/406) /content/vacas.mp4: 384x640 7 cows, 11.0ms\n",
            "video 1/1 (frame 52/406) /content/vacas.mp4: 384x640 8 cows, 12.5ms\n",
            "video 1/1 (frame 53/406) /content/vacas.mp4: 384x640 8 cows, 10.0ms\n",
            "video 1/1 (frame 54/406) /content/vacas.mp4: 384x640 7 cows, 10.7ms\n",
            "video 1/1 (frame 55/406) /content/vacas.mp4: 384x640 7 cows, 11.5ms\n",
            "video 1/1 (frame 56/406) /content/vacas.mp4: 384x640 7 cows, 15.3ms\n",
            "video 1/1 (frame 57/406) /content/vacas.mp4: 384x640 7 cows, 11.6ms\n",
            "video 1/1 (frame 58/406) /content/vacas.mp4: 384x640 7 cows, 11.3ms\n",
            "video 1/1 (frame 59/406) /content/vacas.mp4: 384x640 7 cows, 10.8ms\n",
            "video 1/1 (frame 60/406) /content/vacas.mp4: 384x640 7 cows, 11.6ms\n",
            "video 1/1 (frame 61/406) /content/vacas.mp4: 384x640 7 cows, 10.9ms\n",
            "video 1/1 (frame 62/406) /content/vacas.mp4: 384x640 8 cows, 10.7ms\n",
            "video 1/1 (frame 63/406) /content/vacas.mp4: 384x640 8 cows, 11.0ms\n",
            "video 1/1 (frame 64/406) /content/vacas.mp4: 384x640 8 cows, 13.4ms\n",
            "video 1/1 (frame 65/406) /content/vacas.mp4: 384x640 8 cows, 10.1ms\n",
            "video 1/1 (frame 66/406) /content/vacas.mp4: 384x640 8 cows, 11.0ms\n",
            "video 1/1 (frame 67/406) /content/vacas.mp4: 384x640 8 cows, 12.0ms\n",
            "video 1/1 (frame 68/406) /content/vacas.mp4: 384x640 8 cows, 11.4ms\n",
            "video 1/1 (frame 69/406) /content/vacas.mp4: 384x640 8 cows, 10.7ms\n",
            "video 1/1 (frame 70/406) /content/vacas.mp4: 384x640 8 cows, 9.3ms\n",
            "video 1/1 (frame 71/406) /content/vacas.mp4: 384x640 7 cows, 14.2ms\n",
            "video 1/1 (frame 72/406) /content/vacas.mp4: 384x640 7 cows, 9.4ms\n",
            "video 1/1 (frame 73/406) /content/vacas.mp4: 384x640 7 cows, 9.4ms\n",
            "video 1/1 (frame 74/406) /content/vacas.mp4: 384x640 7 cows, 9.9ms\n",
            "video 1/1 (frame 75/406) /content/vacas.mp4: 384x640 7 cows, 13.0ms\n",
            "video 1/1 (frame 76/406) /content/vacas.mp4: 384x640 7 cows, 12.6ms\n",
            "video 1/1 (frame 77/406) /content/vacas.mp4: 384x640 7 cows, 9.7ms\n",
            "video 1/1 (frame 78/406) /content/vacas.mp4: 384x640 7 cows, 9.3ms\n",
            "video 1/1 (frame 79/406) /content/vacas.mp4: 384x640 7 cows, 9.5ms\n",
            "video 1/1 (frame 80/406) /content/vacas.mp4: 384x640 7 cows, 9.5ms\n",
            "video 1/1 (frame 81/406) /content/vacas.mp4: 384x640 7 cows, 10.6ms\n",
            "video 1/1 (frame 82/406) /content/vacas.mp4: 384x640 7 cows, 10.9ms\n",
            "video 1/1 (frame 83/406) /content/vacas.mp4: 384x640 7 cows, 10.6ms\n",
            "video 1/1 (frame 84/406) /content/vacas.mp4: 384x640 7 cows, 9.3ms\n",
            "video 1/1 (frame 85/406) /content/vacas.mp4: 384x640 7 cows, 9.3ms\n",
            "video 1/1 (frame 86/406) /content/vacas.mp4: 384x640 7 cows, 11.3ms\n",
            "video 1/1 (frame 87/406) /content/vacas.mp4: 384x640 7 cows, 10.8ms\n",
            "video 1/1 (frame 88/406) /content/vacas.mp4: 384x640 7 cows, 14.7ms\n",
            "video 1/1 (frame 89/406) /content/vacas.mp4: 384x640 7 cows, 9.4ms\n",
            "video 1/1 (frame 90/406) /content/vacas.mp4: 384x640 7 cows, 12.0ms\n",
            "video 1/1 (frame 91/406) /content/vacas.mp4: 384x640 7 cows, 10.6ms\n",
            "video 1/1 (frame 92/406) /content/vacas.mp4: 384x640 7 cows, 12.0ms\n",
            "video 1/1 (frame 93/406) /content/vacas.mp4: 384x640 7 cows, 9.7ms\n",
            "video 1/1 (frame 94/406) /content/vacas.mp4: 384x640 7 cows, 12.6ms\n",
            "video 1/1 (frame 95/406) /content/vacas.mp4: 384x640 7 cows, 9.7ms\n",
            "video 1/1 (frame 96/406) /content/vacas.mp4: 384x640 7 cows, 9.8ms\n",
            "video 1/1 (frame 97/406) /content/vacas.mp4: 384x640 7 cows, 10.9ms\n",
            "video 1/1 (frame 98/406) /content/vacas.mp4: 384x640 7 cows, 10.4ms\n",
            "video 1/1 (frame 99/406) /content/vacas.mp4: 384x640 7 cows, 10.2ms\n",
            "video 1/1 (frame 100/406) /content/vacas.mp4: 384x640 8 cows, 12.1ms\n",
            "video 1/1 (frame 101/406) /content/vacas.mp4: 384x640 8 cows, 13.9ms\n",
            "video 1/1 (frame 102/406) /content/vacas.mp4: 384x640 8 cows, 9.6ms\n",
            "video 1/1 (frame 103/406) /content/vacas.mp4: 384x640 7 cows, 9.6ms\n",
            "video 1/1 (frame 104/406) /content/vacas.mp4: 384x640 7 cows, 10.1ms\n",
            "video 1/1 (frame 105/406) /content/vacas.mp4: 384x640 7 cows, 13.4ms\n",
            "video 1/1 (frame 106/406) /content/vacas.mp4: 384x640 7 cows, 11.9ms\n",
            "video 1/1 (frame 107/406) /content/vacas.mp4: 384x640 7 cows, 11.5ms\n",
            "video 1/1 (frame 108/406) /content/vacas.mp4: 384x640 8 cows, 12.7ms\n",
            "video 1/1 (frame 109/406) /content/vacas.mp4: 384x640 8 cows, 11.9ms\n",
            "video 1/1 (frame 110/406) /content/vacas.mp4: 384x640 8 cows, 10.7ms\n",
            "video 1/1 (frame 111/406) /content/vacas.mp4: 384x640 9 cows, 9.5ms\n",
            "video 1/1 (frame 112/406) /content/vacas.mp4: 384x640 9 cows, 13.1ms\n",
            "video 1/1 (frame 113/406) /content/vacas.mp4: 384x640 9 cows, 9.6ms\n",
            "video 1/1 (frame 114/406) /content/vacas.mp4: 384x640 9 cows, 9.9ms\n",
            "video 1/1 (frame 115/406) /content/vacas.mp4: 384x640 9 cows, 9.2ms\n",
            "video 1/1 (frame 116/406) /content/vacas.mp4: 384x640 8 cows, 15.4ms\n",
            "video 1/1 (frame 117/406) /content/vacas.mp4: 384x640 8 cows, 10.8ms\n",
            "video 1/1 (frame 118/406) /content/vacas.mp4: 384x640 7 cows, 9.5ms\n",
            "video 1/1 (frame 119/406) /content/vacas.mp4: 384x640 7 cows, 10.5ms\n",
            "video 1/1 (frame 120/406) /content/vacas.mp4: 384x640 7 cows, 9.7ms\n",
            "video 1/1 (frame 121/406) /content/vacas.mp4: 384x640 8 cows, 14.7ms\n",
            "video 1/1 (frame 122/406) /content/vacas.mp4: 384x640 8 cows, 12.0ms\n",
            "video 1/1 (frame 123/406) /content/vacas.mp4: 384x640 8 cows, 11.6ms\n",
            "video 1/1 (frame 124/406) /content/vacas.mp4: 384x640 8 cows, 9.9ms\n",
            "video 1/1 (frame 125/406) /content/vacas.mp4: 384x640 9 cows, 11.2ms\n",
            "video 1/1 (frame 126/406) /content/vacas.mp4: 384x640 9 cows, 9.6ms\n",
            "video 1/1 (frame 127/406) /content/vacas.mp4: 384x640 9 cows, 12.6ms\n",
            "video 1/1 (frame 128/406) /content/vacas.mp4: 384x640 9 cows, 9.2ms\n",
            "video 1/1 (frame 129/406) /content/vacas.mp4: 384x640 9 cows, 11.1ms\n",
            "video 1/1 (frame 130/406) /content/vacas.mp4: 384x640 8 cows, 9.2ms\n",
            "video 1/1 (frame 131/406) /content/vacas.mp4: 384x640 8 cows, 13.6ms\n",
            "video 1/1 (frame 132/406) /content/vacas.mp4: 384x640 8 cows, 9.3ms\n",
            "video 1/1 (frame 133/406) /content/vacas.mp4: 384x640 9 cows, 24.5ms\n",
            "video 1/1 (frame 134/406) /content/vacas.mp4: 384x640 8 cows, 11.8ms\n",
            "video 1/1 (frame 135/406) /content/vacas.mp4: 384x640 8 cows, 15.1ms\n",
            "video 1/1 (frame 136/406) /content/vacas.mp4: 384x640 8 cows, 15.8ms\n",
            "video 1/1 (frame 137/406) /content/vacas.mp4: 384x640 8 cows, 14.6ms\n",
            "video 1/1 (frame 138/406) /content/vacas.mp4: 384x640 8 cows, 11.2ms\n",
            "video 1/1 (frame 139/406) /content/vacas.mp4: 384x640 8 cows, 14.8ms\n",
            "video 1/1 (frame 140/406) /content/vacas.mp4: 384x640 7 cows, 17.9ms\n",
            "video 1/1 (frame 141/406) /content/vacas.mp4: 384x640 7 cows, 17.7ms\n",
            "video 1/1 (frame 142/406) /content/vacas.mp4: 384x640 7 cows, 16.6ms\n",
            "video 1/1 (frame 143/406) /content/vacas.mp4: 384x640 7 cows, 16.8ms\n",
            "video 1/1 (frame 144/406) /content/vacas.mp4: 384x640 7 cows, 12.3ms\n",
            "video 1/1 (frame 145/406) /content/vacas.mp4: 384x640 7 cows, 13.3ms\n",
            "video 1/1 (frame 146/406) /content/vacas.mp4: 384x640 8 cows, 19.9ms\n",
            "video 1/1 (frame 147/406) /content/vacas.mp4: 384x640 8 cows, 12.9ms\n",
            "video 1/1 (frame 148/406) /content/vacas.mp4: 384x640 7 cows, 15.4ms\n",
            "video 1/1 (frame 149/406) /content/vacas.mp4: 384x640 9 cows, 17.0ms\n",
            "video 1/1 (frame 150/406) /content/vacas.mp4: 384x640 9 cows, 15.0ms\n",
            "video 1/1 (frame 151/406) /content/vacas.mp4: 384x640 9 cows, 11.7ms\n",
            "video 1/1 (frame 152/406) /content/vacas.mp4: 384x640 11 cows, 14.3ms\n",
            "video 1/1 (frame 153/406) /content/vacas.mp4: 384x640 12 cows, 17.0ms\n",
            "video 1/1 (frame 154/406) /content/vacas.mp4: 384x640 13 cows, 14.0ms\n",
            "video 1/1 (frame 155/406) /content/vacas.mp4: 384x640 13 cows, 12.4ms\n",
            "video 1/1 (frame 156/406) /content/vacas.mp4: 384x640 13 cows, 24.0ms\n",
            "video 1/1 (frame 157/406) /content/vacas.mp4: 384x640 13 cows, 16.6ms\n",
            "video 1/1 (frame 158/406) /content/vacas.mp4: 384x640 13 cows, 12.8ms\n",
            "video 1/1 (frame 159/406) /content/vacas.mp4: 384x640 13 cows, 9.3ms\n",
            "video 1/1 (frame 160/406) /content/vacas.mp4: 384x640 13 cows, 9.1ms\n",
            "video 1/1 (frame 161/406) /content/vacas.mp4: 384x640 13 cows, 13.4ms\n",
            "video 1/1 (frame 162/406) /content/vacas.mp4: 384x640 13 cows, 9.5ms\n",
            "video 1/1 (frame 163/406) /content/vacas.mp4: 384x640 12 cows, 10.5ms\n",
            "video 1/1 (frame 164/406) /content/vacas.mp4: 384x640 12 cows, 11.8ms\n",
            "video 1/1 (frame 165/406) /content/vacas.mp4: 384x640 12 cows, 12.0ms\n",
            "video 1/1 (frame 166/406) /content/vacas.mp4: 384x640 12 cows, 12.2ms\n",
            "video 1/1 (frame 167/406) /content/vacas.mp4: 384x640 12 cows, 11.5ms\n",
            "video 1/1 (frame 168/406) /content/vacas.mp4: 384x640 12 cows, 14.3ms\n",
            "video 1/1 (frame 169/406) /content/vacas.mp4: 384x640 12 cows, 11.1ms\n",
            "video 1/1 (frame 170/406) /content/vacas.mp4: 384x640 11 cows, 11.8ms\n",
            "video 1/1 (frame 171/406) /content/vacas.mp4: 384x640 11 cows, 9.2ms\n",
            "video 1/1 (frame 172/406) /content/vacas.mp4: 384x640 11 cows, 10.5ms\n",
            "video 1/1 (frame 173/406) /content/vacas.mp4: 384x640 11 cows, 11.2ms\n",
            "video 1/1 (frame 174/406) /content/vacas.mp4: 384x640 11 cows, 9.2ms\n",
            "video 1/1 (frame 175/406) /content/vacas.mp4: 384x640 11 cows, 9.0ms\n",
            "video 1/1 (frame 176/406) /content/vacas.mp4: 384x640 10 cows, 12.2ms\n",
            "video 1/1 (frame 177/406) /content/vacas.mp4: 384x640 10 cows, 9.4ms\n",
            "video 1/1 (frame 178/406) /content/vacas.mp4: 384x640 10 cows, 12.3ms\n",
            "video 1/1 (frame 179/406) /content/vacas.mp4: 384x640 10 cows, 9.3ms\n",
            "video 1/1 (frame 180/406) /content/vacas.mp4: 384x640 10 cows, 9.2ms\n",
            "video 1/1 (frame 181/406) /content/vacas.mp4: 384x640 10 cows, 10.1ms\n",
            "video 1/1 (frame 182/406) /content/vacas.mp4: 384x640 11 cows, 10.9ms\n",
            "video 1/1 (frame 183/406) /content/vacas.mp4: 384x640 11 cows, 10.9ms\n",
            "video 1/1 (frame 184/406) /content/vacas.mp4: 384x640 12 cows, 10.8ms\n",
            "video 1/1 (frame 185/406) /content/vacas.mp4: 384x640 12 cows, 13.6ms\n",
            "video 1/1 (frame 186/406) /content/vacas.mp4: 384x640 11 cows, 10.8ms\n",
            "video 1/1 (frame 187/406) /content/vacas.mp4: 384x640 11 cows, 9.4ms\n",
            "video 1/1 (frame 188/406) /content/vacas.mp4: 384x640 10 cows, 10.7ms\n",
            "video 1/1 (frame 189/406) /content/vacas.mp4: 384x640 10 cows, 9.5ms\n",
            "video 1/1 (frame 190/406) /content/vacas.mp4: 384x640 10 cows, 10.7ms\n",
            "video 1/1 (frame 191/406) /content/vacas.mp4: 384x640 11 cows, 13.9ms\n",
            "video 1/1 (frame 192/406) /content/vacas.mp4: 384x640 11 cows, 10.5ms\n",
            "video 1/1 (frame 193/406) /content/vacas.mp4: 384x640 11 cows, 9.7ms\n",
            "video 1/1 (frame 194/406) /content/vacas.mp4: 384x640 12 cows, 9.7ms\n",
            "video 1/1 (frame 195/406) /content/vacas.mp4: 384x640 12 cows, 10.8ms\n",
            "video 1/1 (frame 196/406) /content/vacas.mp4: 384x640 12 cows, 10.9ms\n",
            "video 1/1 (frame 197/406) /content/vacas.mp4: 384x640 12 cows, 13.4ms\n",
            "video 1/1 (frame 198/406) /content/vacas.mp4: 384x640 12 cows, 11.3ms\n",
            "video 1/1 (frame 199/406) /content/vacas.mp4: 384x640 12 cows, 9.4ms\n",
            "video 1/1 (frame 200/406) /content/vacas.mp4: 384x640 13 cows, 11.1ms\n",
            "video 1/1 (frame 201/406) /content/vacas.mp4: 384x640 12 cows, 9.7ms\n",
            "video 1/1 (frame 202/406) /content/vacas.mp4: 384x640 12 cows, 10.0ms\n",
            "video 1/1 (frame 203/406) /content/vacas.mp4: 384x640 12 cows, 9.8ms\n",
            "video 1/1 (frame 204/406) /content/vacas.mp4: 384x640 12 cows, 9.4ms\n",
            "video 1/1 (frame 205/406) /content/vacas.mp4: 384x640 12 cows, 9.4ms\n",
            "video 1/1 (frame 206/406) /content/vacas.mp4: 384x640 12 cows, 14.1ms\n",
            "video 1/1 (frame 207/406) /content/vacas.mp4: 384x640 12 cows, 10.8ms\n",
            "video 1/1 (frame 208/406) /content/vacas.mp4: 384x640 12 cows, 9.5ms\n",
            "video 1/1 (frame 209/406) /content/vacas.mp4: 384x640 12 cows, 11.3ms\n",
            "video 1/1 (frame 210/406) /content/vacas.mp4: 384x640 13 cows, 10.5ms\n",
            "video 1/1 (frame 211/406) /content/vacas.mp4: 384x640 11 cows, 12.2ms\n",
            "video 1/1 (frame 212/406) /content/vacas.mp4: 384x640 11 cows, 10.3ms\n",
            "video 1/1 (frame 213/406) /content/vacas.mp4: 384x640 10 cows, 17.4ms\n",
            "video 1/1 (frame 214/406) /content/vacas.mp4: 384x640 11 cows, 9.9ms\n",
            "video 1/1 (frame 215/406) /content/vacas.mp4: 384x640 11 cows, 11.2ms\n",
            "video 1/1 (frame 216/406) /content/vacas.mp4: 384x640 10 cows, 10.3ms\n",
            "video 1/1 (frame 217/406) /content/vacas.mp4: 384x640 12 cows, 9.1ms\n",
            "video 1/1 (frame 218/406) /content/vacas.mp4: 384x640 12 cows, 13.2ms\n",
            "video 1/1 (frame 219/406) /content/vacas.mp4: 384x640 12 cows, 10.7ms\n",
            "video 1/1 (frame 220/406) /content/vacas.mp4: 384x640 12 cows, 9.1ms\n",
            "video 1/1 (frame 221/406) /content/vacas.mp4: 384x640 11 cows, 12.9ms\n",
            "video 1/1 (frame 222/406) /content/vacas.mp4: 384x640 11 cows, 9.8ms\n",
            "video 1/1 (frame 223/406) /content/vacas.mp4: 384x640 11 cows, 10.1ms\n",
            "video 1/1 (frame 224/406) /content/vacas.mp4: 384x640 11 cows, 10.8ms\n",
            "video 1/1 (frame 225/406) /content/vacas.mp4: 384x640 11 cows, 12.5ms\n",
            "video 1/1 (frame 226/406) /content/vacas.mp4: 384x640 10 cows, 12.0ms\n",
            "video 1/1 (frame 227/406) /content/vacas.mp4: 384x640 10 cows, 11.4ms\n",
            "video 1/1 (frame 228/406) /content/vacas.mp4: 384x640 10 cows, 11.2ms\n",
            "video 1/1 (frame 229/406) /content/vacas.mp4: 384x640 10 cows, 12.4ms\n",
            "video 1/1 (frame 230/406) /content/vacas.mp4: 384x640 9 cows, 14.2ms\n",
            "video 1/1 (frame 231/406) /content/vacas.mp4: 384x640 9 cows, 11.0ms\n",
            "video 1/1 (frame 232/406) /content/vacas.mp4: 384x640 9 cows, 9.3ms\n",
            "video 1/1 (frame 233/406) /content/vacas.mp4: 384x640 9 cows, 15.4ms\n",
            "video 1/1 (frame 234/406) /content/vacas.mp4: 384x640 9 cows, 10.0ms\n",
            "video 1/1 (frame 235/406) /content/vacas.mp4: 384x640 9 cows, 9.0ms\n",
            "video 1/1 (frame 236/406) /content/vacas.mp4: 384x640 9 cows, 15.2ms\n",
            "video 1/1 (frame 237/406) /content/vacas.mp4: 384x640 9 cows, 12.2ms\n",
            "video 1/1 (frame 238/406) /content/vacas.mp4: 384x640 9 cows, 9.2ms\n",
            "video 1/1 (frame 239/406) /content/vacas.mp4: 384x640 9 cows, 9.6ms\n",
            "video 1/1 (frame 240/406) /content/vacas.mp4: 384x640 9 cows, 11.8ms\n",
            "video 1/1 (frame 241/406) /content/vacas.mp4: 384x640 10 cows, 10.1ms\n",
            "video 1/1 (frame 242/406) /content/vacas.mp4: 384x640 9 cows, 14.3ms\n",
            "video 1/1 (frame 243/406) /content/vacas.mp4: 384x640 12 cows, 10.6ms\n",
            "video 1/1 (frame 244/406) /content/vacas.mp4: 384x640 13 cows, 10.1ms\n",
            "video 1/1 (frame 245/406) /content/vacas.mp4: 384x640 10 cows, 9.6ms\n",
            "video 1/1 (frame 246/406) /content/vacas.mp4: 384x640 9 cows, 10.7ms\n",
            "video 1/1 (frame 247/406) /content/vacas.mp4: 384x640 9 cows, 9.2ms\n",
            "video 1/1 (frame 248/406) /content/vacas.mp4: 384x640 9 cows, 11.4ms\n",
            "video 1/1 (frame 249/406) /content/vacas.mp4: 384x640 9 cows, 11.0ms\n",
            "video 1/1 (frame 250/406) /content/vacas.mp4: 384x640 10 cows, 9.2ms\n",
            "video 1/1 (frame 251/406) /content/vacas.mp4: 384x640 10 cows, 15.0ms\n",
            "video 1/1 (frame 252/406) /content/vacas.mp4: 384x640 10 cows, 9.6ms\n",
            "video 1/1 (frame 253/406) /content/vacas.mp4: 384x640 8 cows, 9.9ms\n",
            "video 1/1 (frame 254/406) /content/vacas.mp4: 384x640 8 cows, 10.3ms\n",
            "video 1/1 (frame 255/406) /content/vacas.mp4: 384x640 8 cows, 9.7ms\n",
            "video 1/1 (frame 256/406) /content/vacas.mp4: 384x640 8 cows, 9.6ms\n",
            "video 1/1 (frame 257/406) /content/vacas.mp4: 384x640 9 cows, 9.4ms\n",
            "video 1/1 (frame 258/406) /content/vacas.mp4: 384x640 9 cows, 9.1ms\n",
            "video 1/1 (frame 259/406) /content/vacas.mp4: 384x640 9 cows, 18.7ms\n",
            "video 1/1 (frame 260/406) /content/vacas.mp4: 384x640 8 cows, 9.5ms\n",
            "video 1/1 (frame 261/406) /content/vacas.mp4: 384x640 8 cows, 10.6ms\n",
            "video 1/1 (frame 262/406) /content/vacas.mp4: 384x640 8 cows, 9.8ms\n",
            "video 1/1 (frame 263/406) /content/vacas.mp4: 384x640 8 cows, 12.3ms\n",
            "video 1/1 (frame 264/406) /content/vacas.mp4: 384x640 8 cows, 11.2ms\n",
            "video 1/1 (frame 265/406) /content/vacas.mp4: 384x640 9 cows, 9.9ms\n",
            "video 1/1 (frame 266/406) /content/vacas.mp4: 384x640 10 cows, 9.3ms\n",
            "video 1/1 (frame 267/406) /content/vacas.mp4: 384x640 10 cows, 11.8ms\n",
            "video 1/1 (frame 268/406) /content/vacas.mp4: 384x640 10 cows, 16.7ms\n",
            "video 1/1 (frame 269/406) /content/vacas.mp4: 384x640 10 cows, 12.0ms\n",
            "video 1/1 (frame 270/406) /content/vacas.mp4: 384x640 10 cows, 12.4ms\n",
            "video 1/1 (frame 271/406) /content/vacas.mp4: 384x640 10 cows, 13.6ms\n",
            "video 1/1 (frame 272/406) /content/vacas.mp4: 384x640 10 cows, 11.6ms\n",
            "video 1/1 (frame 273/406) /content/vacas.mp4: 384x640 10 cows, 11.9ms\n",
            "video 1/1 (frame 274/406) /content/vacas.mp4: 384x640 9 cows, 11.4ms\n",
            "video 1/1 (frame 275/406) /content/vacas.mp4: 384x640 10 cows, 18.3ms\n",
            "video 1/1 (frame 276/406) /content/vacas.mp4: 384x640 9 cows, 15.9ms\n",
            "video 1/1 (frame 277/406) /content/vacas.mp4: 384x640 10 cows, 22.5ms\n",
            "video 1/1 (frame 278/406) /content/vacas.mp4: 384x640 9 cows, 14.0ms\n",
            "video 1/1 (frame 279/406) /content/vacas.mp4: 384x640 9 cows, 14.1ms\n",
            "video 1/1 (frame 280/406) /content/vacas.mp4: 384x640 9 cows, 13.0ms\n",
            "video 1/1 (frame 281/406) /content/vacas.mp4: 384x640 8 cows, 23.1ms\n",
            "video 1/1 (frame 282/406) /content/vacas.mp4: 384x640 8 cows, 14.9ms\n",
            "video 1/1 (frame 283/406) /content/vacas.mp4: 384x640 8 cows, 11.6ms\n",
            "video 1/1 (frame 284/406) /content/vacas.mp4: 384x640 9 cows, 11.4ms\n",
            "video 1/1 (frame 285/406) /content/vacas.mp4: 384x640 9 cows, 13.0ms\n",
            "video 1/1 (frame 286/406) /content/vacas.mp4: 384x640 9 cows, 11.6ms\n",
            "video 1/1 (frame 287/406) /content/vacas.mp4: 384x640 8 cows, 20.2ms\n",
            "video 1/1 (frame 288/406) /content/vacas.mp4: 384x640 8 cows, 13.3ms\n",
            "video 1/1 (frame 289/406) /content/vacas.mp4: 384x640 8 cows, 21.3ms\n",
            "video 1/1 (frame 290/406) /content/vacas.mp4: 384x640 7 cows, 14.5ms\n",
            "video 1/1 (frame 291/406) /content/vacas.mp4: 384x640 7 cows, 21.2ms\n",
            "video 1/1 (frame 292/406) /content/vacas.mp4: 384x640 7 cows, 10.2ms\n",
            "video 1/1 (frame 293/406) /content/vacas.mp4: 384x640 7 cows, 9.6ms\n",
            "video 1/1 (frame 294/406) /content/vacas.mp4: 384x640 8 cows, 10.5ms\n",
            "video 1/1 (frame 295/406) /content/vacas.mp4: 384x640 8 cows, 11.2ms\n",
            "video 1/1 (frame 296/406) /content/vacas.mp4: 384x640 8 cows, 14.7ms\n",
            "video 1/1 (frame 297/406) /content/vacas.mp4: 384x640 9 cows, 9.6ms\n",
            "video 1/1 (frame 298/406) /content/vacas.mp4: 384x640 9 cows, 11.0ms\n",
            "video 1/1 (frame 299/406) /content/vacas.mp4: 384x640 9 cows, 9.1ms\n",
            "video 1/1 (frame 300/406) /content/vacas.mp4: 384x640 8 cows, 11.8ms\n",
            "video 1/1 (frame 301/406) /content/vacas.mp4: 384x640 9 cows, 10.7ms\n",
            "video 1/1 (frame 302/406) /content/vacas.mp4: 384x640 9 cows, 11.1ms\n",
            "video 1/1 (frame 303/406) /content/vacas.mp4: 384x640 9 cows, 11.5ms\n",
            "video 1/1 (frame 304/406) /content/vacas.mp4: 384x640 9 cows, 22.6ms\n",
            "video 1/1 (frame 305/406) /content/vacas.mp4: 384x640 8 cows, 11.0ms\n",
            "video 1/1 (frame 306/406) /content/vacas.mp4: 384x640 9 cows, 13.3ms\n",
            "video 1/1 (frame 307/406) /content/vacas.mp4: 384x640 9 cows, 11.4ms\n",
            "video 1/1 (frame 308/406) /content/vacas.mp4: 384x640 9 cows, 11.5ms\n",
            "video 1/1 (frame 309/406) /content/vacas.mp4: 384x640 9 cows, 9.7ms\n",
            "video 1/1 (frame 310/406) /content/vacas.mp4: 384x640 9 cows, 9.5ms\n",
            "video 1/1 (frame 311/406) /content/vacas.mp4: 384x640 9 cows, 12.6ms\n",
            "video 1/1 (frame 312/406) /content/vacas.mp4: 384x640 10 cows, 13.0ms\n",
            "video 1/1 (frame 313/406) /content/vacas.mp4: 384x640 10 cows, 11.5ms\n",
            "video 1/1 (frame 314/406) /content/vacas.mp4: 384x640 10 cows, 10.4ms\n",
            "video 1/1 (frame 315/406) /content/vacas.mp4: 384x640 11 cows, 13.6ms\n",
            "video 1/1 (frame 316/406) /content/vacas.mp4: 384x640 12 cows, 11.9ms\n",
            "video 1/1 (frame 317/406) /content/vacas.mp4: 384x640 11 cows, 10.9ms\n",
            "video 1/1 (frame 318/406) /content/vacas.mp4: 384x640 12 cows, 13.4ms\n",
            "video 1/1 (frame 319/406) /content/vacas.mp4: 384x640 11 cows, 10.4ms\n",
            "video 1/1 (frame 320/406) /content/vacas.mp4: 384x640 10 cows, 11.0ms\n",
            "video 1/1 (frame 321/406) /content/vacas.mp4: 384x640 9 cows, 11.3ms\n",
            "video 1/1 (frame 322/406) /content/vacas.mp4: 384x640 10 cows, 10.6ms\n",
            "video 1/1 (frame 323/406) /content/vacas.mp4: 384x640 10 cows, 10.7ms\n",
            "video 1/1 (frame 324/406) /content/vacas.mp4: 384x640 11 cows, 11.1ms\n",
            "video 1/1 (frame 325/406) /content/vacas.mp4: 384x640 12 cows, 10.6ms\n",
            "video 1/1 (frame 326/406) /content/vacas.mp4: 384x640 11 cows, 13.2ms\n",
            "video 1/1 (frame 327/406) /content/vacas.mp4: 384x640 11 cows, 19.0ms\n",
            "video 1/1 (frame 328/406) /content/vacas.mp4: 384x640 10 cows, 10.6ms\n",
            "video 1/1 (frame 329/406) /content/vacas.mp4: 384x640 10 cows, 10.8ms\n",
            "video 1/1 (frame 330/406) /content/vacas.mp4: 384x640 10 cows, 14.1ms\n",
            "video 1/1 (frame 331/406) /content/vacas.mp4: 384x640 10 cows, 11.8ms\n",
            "video 1/1 (frame 332/406) /content/vacas.mp4: 384x640 10 cows, 12.0ms\n",
            "video 1/1 (frame 333/406) /content/vacas.mp4: 384x640 10 cows, 11.5ms\n",
            "video 1/1 (frame 334/406) /content/vacas.mp4: 384x640 10 cows, 9.2ms\n",
            "video 1/1 (frame 335/406) /content/vacas.mp4: 384x640 11 cows, 10.5ms\n",
            "video 1/1 (frame 336/406) /content/vacas.mp4: 384x640 10 cows, 9.3ms\n",
            "video 1/1 (frame 337/406) /content/vacas.mp4: 384x640 10 cows, 9.2ms\n",
            "video 1/1 (frame 338/406) /content/vacas.mp4: 384x640 10 cows, 9.3ms\n",
            "video 1/1 (frame 339/406) /content/vacas.mp4: 384x640 11 cows, 12.8ms\n",
            "video 1/1 (frame 340/406) /content/vacas.mp4: 384x640 11 cows, 11.1ms\n",
            "video 1/1 (frame 341/406) /content/vacas.mp4: 384x640 10 cows, 13.0ms\n",
            "video 1/1 (frame 342/406) /content/vacas.mp4: 384x640 10 cows, 9.2ms\n",
            "video 1/1 (frame 343/406) /content/vacas.mp4: 384x640 9 cows, 8.9ms\n",
            "video 1/1 (frame 344/406) /content/vacas.mp4: 384x640 11 cows, 9.0ms\n",
            "video 1/1 (frame 345/406) /content/vacas.mp4: 384x640 11 cows, 13.0ms\n",
            "video 1/1 (frame 346/406) /content/vacas.mp4: 384x640 10 cows, 11.6ms\n",
            "video 1/1 (frame 347/406) /content/vacas.mp4: 384x640 11 cows, 9.1ms\n",
            "video 1/1 (frame 348/406) /content/vacas.mp4: 384x640 11 cows, 9.5ms\n",
            "video 1/1 (frame 349/406) /content/vacas.mp4: 384x640 11 cows, 9.1ms\n",
            "video 1/1 (frame 350/406) /content/vacas.mp4: 384x640 11 cows, 9.7ms\n",
            "video 1/1 (frame 351/406) /content/vacas.mp4: 384x640 11 cows, 14.1ms\n",
            "video 1/1 (frame 352/406) /content/vacas.mp4: 384x640 10 cows, 11.4ms\n",
            "video 1/1 (frame 353/406) /content/vacas.mp4: 384x640 10 cows, 10.9ms\n",
            "video 1/1 (frame 354/406) /content/vacas.mp4: 384x640 10 cows, 9.3ms\n",
            "video 1/1 (frame 355/406) /content/vacas.mp4: 384x640 10 cows, 10.1ms\n",
            "video 1/1 (frame 356/406) /content/vacas.mp4: 384x640 10 cows, 9.3ms\n",
            "video 1/1 (frame 357/406) /content/vacas.mp4: 384x640 10 cows, 11.2ms\n",
            "video 1/1 (frame 358/406) /content/vacas.mp4: 384x640 10 cows, 12.3ms\n",
            "video 1/1 (frame 359/406) /content/vacas.mp4: 384x640 9 cows, 10.7ms\n",
            "video 1/1 (frame 360/406) /content/vacas.mp4: 384x640 9 cows, 12.1ms\n",
            "video 1/1 (frame 361/406) /content/vacas.mp4: 384x640 10 cows, 10.5ms\n",
            "video 1/1 (frame 362/406) /content/vacas.mp4: 384x640 11 cows, 13.1ms\n",
            "video 1/1 (frame 363/406) /content/vacas.mp4: 384x640 11 cows, 10.8ms\n",
            "video 1/1 (frame 364/406) /content/vacas.mp4: 384x640 11 cows, 9.3ms\n",
            "video 1/1 (frame 365/406) /content/vacas.mp4: 384x640 11 cows, 14.4ms\n",
            "video 1/1 (frame 366/406) /content/vacas.mp4: 384x640 11 cows, 10.6ms\n",
            "video 1/1 (frame 367/406) /content/vacas.mp4: 384x640 10 cows, 12.2ms\n",
            "video 1/1 (frame 368/406) /content/vacas.mp4: 384x640 12 cows, 9.9ms\n",
            "video 1/1 (frame 369/406) /content/vacas.mp4: 384x640 12 cows, 10.7ms\n",
            "video 1/1 (frame 370/406) /content/vacas.mp4: 384x640 11 cows, 9.5ms\n",
            "video 1/1 (frame 371/406) /content/vacas.mp4: 384x640 11 cows, 13.4ms\n",
            "video 1/1 (frame 372/406) /content/vacas.mp4: 384x640 11 cows, 10.1ms\n",
            "video 1/1 (frame 373/406) /content/vacas.mp4: 384x640 11 cows, 11.1ms\n",
            "video 1/1 (frame 374/406) /content/vacas.mp4: 384x640 11 cows, 9.2ms\n",
            "video 1/1 (frame 375/406) /content/vacas.mp4: 384x640 10 cows, 12.0ms\n",
            "video 1/1 (frame 376/406) /content/vacas.mp4: 384x640 10 cows, 9.5ms\n",
            "video 1/1 (frame 377/406) /content/vacas.mp4: 384x640 10 cows, 11.1ms\n",
            "video 1/1 (frame 378/406) /content/vacas.mp4: 384x640 12 cows, 9.3ms\n",
            "video 1/1 (frame 379/406) /content/vacas.mp4: 384x640 12 cows, 10.6ms\n",
            "video 1/1 (frame 380/406) /content/vacas.mp4: 384x640 12 cows, 9.1ms\n",
            "video 1/1 (frame 381/406) /content/vacas.mp4: 384x640 12 cows, 11.2ms\n",
            "video 1/1 (frame 382/406) /content/vacas.mp4: 384x640 12 cows, 10.6ms\n",
            "video 1/1 (frame 383/406) /content/vacas.mp4: 384x640 12 cows, 10.4ms\n",
            "video 1/1 (frame 384/406) /content/vacas.mp4: 384x640 12 cows, 13.2ms\n",
            "video 1/1 (frame 385/406) /content/vacas.mp4: 384x640 11 cows, 12.5ms\n",
            "video 1/1 (frame 386/406) /content/vacas.mp4: 384x640 10 cows, 11.7ms\n",
            "video 1/1 (frame 387/406) /content/vacas.mp4: 384x640 10 cows, 9.5ms\n",
            "video 1/1 (frame 388/406) /content/vacas.mp4: 384x640 11 cows, 9.4ms\n",
            "video 1/1 (frame 389/406) /content/vacas.mp4: 384x640 11 cows, 9.5ms\n",
            "video 1/1 (frame 390/406) /content/vacas.mp4: 384x640 11 cows, 10.3ms\n",
            "video 1/1 (frame 391/406) /content/vacas.mp4: 384x640 11 cows, 9.3ms\n",
            "video 1/1 (frame 392/406) /content/vacas.mp4: 384x640 12 cows, 9.0ms\n",
            "video 1/1 (frame 393/406) /content/vacas.mp4: 384x640 13 cows, 11.6ms\n",
            "video 1/1 (frame 394/406) /content/vacas.mp4: 384x640 13 cows, 9.7ms\n",
            "video 1/1 (frame 395/406) /content/vacas.mp4: 384x640 14 cows, 10.0ms\n",
            "video 1/1 (frame 396/406) /content/vacas.mp4: 384x640 13 cows, 9.3ms\n",
            "video 1/1 (frame 397/406) /content/vacas.mp4: 384x640 13 cows, 13.4ms\n",
            "video 1/1 (frame 398/406) /content/vacas.mp4: 384x640 12 cows, 11.0ms\n",
            "video 1/1 (frame 399/406) /content/vacas.mp4: 384x640 12 cows, 12.7ms\n",
            "video 1/1 (frame 400/406) /content/vacas.mp4: 384x640 12 cows, 9.1ms\n",
            "video 1/1 (frame 401/406) /content/vacas.mp4: 384x640 13 cows, 9.7ms\n",
            "video 1/1 (frame 402/406) /content/vacas.mp4: 384x640 13 cows, 10.1ms\n",
            "video 1/1 (frame 403/406) /content/vacas.mp4: 384x640 14 cows, 10.2ms\n",
            "video 1/1 (frame 404/406) /content/vacas.mp4: 384x640 13 cows, 13.2ms\n",
            "video 1/1 (frame 405/406) /content/vacas.mp4: 384x640 13 cows, 11.9ms\n",
            "video 1/1 (frame 406/406) /content/vacas.mp4: 384x640 13 cows, 12.1ms\n",
            "Speed: 3.6ms preprocess, 11.9ms inference, 1.9ms postprocess per image at shape (1, 3, 384, 640)\n",
            "Results saved to \u001b[1mruns/detect/test_result4\u001b[0m\n"
          ]
        }
      ]
    },
    {
      "cell_type": "code",
      "source": [
        "dados_contagem = []\n",
        "    #frame_idx identifica cada frame no video individualmente\n",
        "for frame_idx, result in enumerate(results):\n",
        "    if result.boxes is not None:\n",
        "        num_vacas = len(result.boxes)\n",
        "        dados_contagem.append([frame_idx, num_vacas])\n",
        "\n",
        "with open('contagem_vacas.csv', mode='w', newline='') as file:\n",
        "    writer = csv.writer(file)\n",
        "    writer.writerow(['Frame', 'Numero de Vacas'])\n",
        "    writer.writerows(dados_contagem)"
      ],
      "metadata": {
        "id": "Itd19ieB1dqr"
      },
      "execution_count": 12,
      "outputs": []
    },
    {
      "cell_type": "code",
      "source": [
        "csv_path = \"contagem_vacas.csv\"\n",
        "df = pd.read_csv(csv_path)\n",
        "\n",
        "max_vacas = df[\"Numero de Vacas\"].max()\n",
        "\n",
        "print(f\"O maior número de vacas detectadas foi {max_vacas}.\")"
      ],
      "metadata": {
        "colab": {
          "base_uri": "https://localhost:8080/"
        },
        "id": "uFokFFwKesBy",
        "outputId": "90ec5585-70dc-4255-b17f-54df8497deae"
      },
      "execution_count": 13,
      "outputs": [
        {
          "output_type": "stream",
          "name": "stdout",
          "text": [
            "O maior número de vacas detectadas foi 14.\n"
          ]
        }
      ]
    }
  ]
}